{
 "cells": [
  {
   "cell_type": "markdown",
   "metadata": {},
   "source": [
    "# In context learning and Prompt engineering"
   ]
  },
  {
   "cell_type": "code",
   "execution_count": 91,
   "metadata": {},
   "outputs": [
    {
     "name": "stdout",
     "output_type": "stream",
     "text": [
      "Current Working Directory: c:\\Users\\daria\\OneDrive\\Escritorio\\UCL\\Dissertation\\Negations-LM\\context\n"
     ]
    },
    {
     "name": "stderr",
     "output_type": "stream",
     "text": [
      "Setting `pad_token_id` to `eos_token_id`:50256 for open-end generation.\n"
     ]
    },
    {
     "name": "stdout",
     "output_type": "stream",
     "text": [
      "['The man drank from the tap. <|perturb|> [negation] The man [BLANK] drank from the tap.', 'The man drank from the tap. <|perturb|> [negation] The man [BLANK] from the tap.']\n"
     ]
    },
    {
     "name": "stderr",
     "output_type": "stream",
     "text": [
      "Setting `pad_token_id` to `eos_token_id`:50256 for open-end generation.\n",
      "INFO:polyjuice.polyjuice_wrapper:Setup SpaCy processor.\n"
     ]
    },
    {
     "name": "stdout",
     "output_type": "stream",
     "text": [
      "HERE\n",
      "[[{'generated_text': \"The man drank from the tap. <|perturb|> [negation] The man [BLANK] drank from the tap. [SEP] didn't [ANSWER] \"}, {'generated_text': 'The man drank from the tap. <|perturb|> [negation] The man [BLANK] drank from the tap. [SEP] never [ANSWER] '}, {'generated_text': 'The man drank from the tap. <|perturb|> [negation] The man [BLANK] drank from the tap. [SEP] did not [ANSWER] '}], [{'generated_text': \"The man drank from the tap. <|perturb|> [negation] The man [BLANK] from the tap. [SEP] didn't drink [ANSWER] \"}, {'generated_text': 'The man drank from the tap. <|perturb|> [negation] The man [BLANK] from the tap. [SEP] did not drink [ANSWER] '}, {'generated_text': 'The man drank from the tap. <|perturb|> [negation] The man [BLANK] from the tap. [SEP] drank no more [ANSWER] '}]]\n"
     ]
    },
    {
     "name": "stderr",
     "output_type": "stream",
     "text": [
      "INFO:polyjuice.polyjuice_wrapper:Setup perplexity scorer.\n"
     ]
    },
    {
     "name": "stdout",
     "output_type": "stream",
     "text": [
      "['The man never drank from the tap.', 'The man did not drink from the tap.', \"The man didn't drink from the tap.\", 'The man drank no more from the tap.']\n"
     ]
    }
   ],
   "source": [
    "# NEW VERSION\n",
    "import torch\n",
    "from transformers import AutoTokenizer, AutoModelForCausalLM, pipeline\n",
    "import numpy as np\n",
    "import os\n",
    "\n",
    "#project_root = r'C:\\Users\\daria\\OneDrive\\Escritorio\\UCL\\Dissertation\\Negations-LM\\notebook'\n",
    "\n",
    "#C:\\Users\\daria\\OneDrive\\Escritorio\\UCL\\Dissertation\\Negations-LM\\context\\incontext.py\n",
    "#os.chdir(project_root)\n",
    "\n",
    "print(\"Current Working Directory:\", os.getcwd())\n",
    "from incontext import PerturbationGenerator\n",
    "\n",
    "# Example usage\n",
    "text = \"The project is sustainable.\"\n",
    "random_blanks = {'The project [BLANK] sustainable', '[BLANK] project is sustainable'}\n",
    "\n",
    "text = \"The argument is complicated.\"\n",
    "random_blanks = {'The argument [BLANK] complicated.', 'The argument is [BLANK].'}\n",
    "\n",
    "text = \"The man drank from the tap.\"\n",
    "random_blanks = {'The man [BLANK] from the tap.', 'The man [BLANK] drank from the tap.'}\n",
    "\n",
    "generator = PerturbationGenerator()\n",
    "\n",
    "prompts = generator.get_prompts(text, random_blanks)\n",
    "print(prompts)\n",
    "\n",
    "generated_sequences = generator.generate_on_prompts(prompts, temperature=1, num_beams=5, do_sample=True, batch_size=128, num_return_sequences=3)\n",
    "\n",
    "listado = generator.validate_and_sample_perturbations(generated_sequences, text, perplex_thred=10, num_perturbations=4)\n",
    "print(listado)"
   ]
  },
  {
   "cell_type": "code",
   "execution_count": 92,
   "metadata": {},
   "outputs": [
    {
     "data": {
      "text/plain": [
       "[[('negation', \"The man didn't drank from the tap.\"),\n",
       "  ('negation', 'The man did not drank from the tap.'),\n",
       "  ('negation', 'The man never drank from the tap.')],\n",
       " [('negation', 'The man drank no more from the tap.'),\n",
       "  ('negation', \"The man didn't drink from the tap.\"),\n",
       "  ('negation', 'The man did not drink from the tap.')]]"
      ]
     },
     "execution_count": 92,
     "metadata": {},
     "output_type": "execute_result"
    }
   ],
   "source": [
    "generated_sequences"
   ]
  },
  {
   "cell_type": "code",
   "execution_count": 90,
   "metadata": {},
   "outputs": [
    {
     "name": "stderr",
     "output_type": "stream",
     "text": [
      "Setting `pad_token_id` to `eos_token_id`:50256 for open-end generation.\n"
     ]
    },
    {
     "name": "stdout",
     "output_type": "stream",
     "text": [
      "['It is possible. <|perturb|> [negation] It is [BLANK]. [SEP] impossible [ANSWER]\\nHe is satisfied. <|perturb|> [negation] He is [BLANK]. [SEP] dissatisfied [ANSWER]\\nThe statement is logical. <|perturb|> [negation] The statement is [BLANK]. [SEP] illogical [ANSWER]\\nShe is happy. <|perturb|> [negation] She is [BLANK]. [SEP] unhappy [ANSWER]\\nThe idea is common. <|perturb|> [negation] The idea is [BLANK]. [SEP] uncommon [ANSWER]\\nHis behavior is always responsible. <|perturb|> [negation] His behavior is always [BLANK].', 'It is possible. <|perturb|> [negation] It is [BLANK]. [SEP] impossible [ANSWER]\\nHe is satisfied. <|perturb|> [negation] He is [BLANK]. [SEP] dissatisfied [ANSWER]\\nThe statement is logical. <|perturb|> [negation] The statement is [BLANK]. [SEP] illogical [ANSWER]\\nShe is happy. <|perturb|> [negation] She is [BLANK]. [SEP] unhappy [ANSWER]\\nThe idea is common. <|perturb|> [negation] The idea is [BLANK]. [SEP] uncommon [ANSWER]\\nHis behavior is always responsible. <|perturb|> [negation] His behavior is [BLANK] responsible.']\n"
     ]
    },
    {
     "name": "stderr",
     "output_type": "stream",
     "text": [
      "Setting `pad_token_id` to `eos_token_id`:50256 for open-end generation.\n",
      "INFO:polyjuice.polyjuice_wrapper:Setup SpaCy processor.\n"
     ]
    },
    {
     "name": "stdout",
     "output_type": "stream",
     "text": [
      "HERE\n",
      "[[{'generated_text': 'It is possible. <|perturb|> [negation] It is [BLANK]. [SEP] impossible [ANSWER]\\nHe is satisfied. <|perturb|> [negation] He is [BLANK]. [SEP] dissatisfied [ANSWER]\\nThe statement is logical. <|perturb|> [negation] The statement is [BLANK]. [SEP] illogical [ANSWER]\\nShe is happy. <|perturb|> [negation] She is [BLANK]. [SEP] unhappy [ANSWER]\\nThe idea is common. <|perturb|> [negation] The idea is [BLANK]. [SEP] uncommon [ANSWER]\\nHis behavior is always responsible. <|perturb|> [negation] His behavior is always [BLANK]. [ANSWER] '}, {'generated_text': 'It is possible. <|perturb|> [negation] It is [BLANK]. [SEP] impossible [ANSWER]\\nHe is satisfied. <|perturb|> [negation] He is [BLANK]. [SEP] dissatisfied [ANSWER]\\nThe statement is logical. <|perturb|> [negation] The statement is [BLANK]. [SEP] illogical [ANSWER]\\nShe is happy. <|perturb|> [negation] She is [BLANK]. [SEP] unhappy [ANSWER]\\nThe idea is common. <|perturb|> [negation] The idea is [BLANK]. [SEP] uncommon [ANSWER]\\nHis behavior is always responsible. <|perturb|> [negation] His behavior is always [BLANK]. [SEP] not responsible. [ANSWER] '}, {'generated_text': 'It is possible. <|perturb|> [negation] It is [BLANK]. [SEP] impossible [ANSWER]\\nHe is satisfied. <|perturb|> [negation] He is [BLANK]. [SEP] dissatisfied [ANSWER]\\nThe statement is logical. <|perturb|> [negation] The statement is [BLANK]. [SEP] illogical [ANSWER]\\nShe is happy. <|perturb|> [negation] She is [BLANK]. [SEP] unhappy [ANSWER]\\nThe idea is common. <|perturb|> [negation] The idea is [BLANK]. [SEP] uncommon [ANSWER]\\nHis behavior is always responsible. <|perturb|> [negation] His behavior is always [BLANK]. [SEP] not [ANSWER] '}], [{'generated_text': 'It is possible. <|perturb|> [negation] It is [BLANK]. [SEP] impossible [ANSWER]\\nHe is satisfied. <|perturb|> [negation] He is [BLANK]. [SEP] dissatisfied [ANSWER]\\nThe statement is logical. <|perturb|> [negation] The statement is [BLANK]. [SEP] illogical [ANSWER]\\nShe is happy. <|perturb|> [negation] She is [BLANK]. [SEP] unhappy [ANSWER]\\nThe idea is common. <|perturb|> [negation] The idea is [BLANK]. [SEP] uncommon [ANSWER]\\nHis behavior is always responsible. <|perturb|> [negation] His behavior is [BLANK] responsible. [ANSWER] '}, {'generated_text': 'It is possible. <|perturb|> [negation] It is [BLANK]. [SEP] impossible [ANSWER]\\nHe is satisfied. <|perturb|> [negation] He is [BLANK]. [SEP] dissatisfied [ANSWER]\\nThe statement is logical. <|perturb|> [negation] The statement is [BLANK]. [SEP] illogical [ANSWER]\\nShe is happy. <|perturb|> [negation] She is [BLANK]. [SEP] unhappy [ANSWER]\\nThe idea is common. <|perturb|> [negation] The idea is [BLANK]. [SEP] uncommon [ANSWER]\\nHis behavior is always responsible. <|perturb|> [negation] His behavior is [BLANK] responsible. ) [ANSWER] '}, {'generated_text': 'It is possible. <|perturb|> [negation] It is [BLANK]. [SEP] impossible [ANSWER]\\nHe is satisfied. <|perturb|> [negation] He is [BLANK]. [SEP] dissatisfied [ANSWER]\\nThe statement is logical. <|perturb|> [negation] The statement is [BLANK]. [SEP] illogical [ANSWER]\\nShe is happy. <|perturb|> [negation] She is [BLANK]. [SEP] unhappy [ANSWER]\\nThe idea is common. <|perturb|> [negation] The idea is [BLANK]. [SEP] uncommon [ANSWER]\\nHis behavior is always responsible. <|perturb|> [negation] His behavior is [BLANK] responsible. \" [ANSWER] '}]]\n"
     ]
    },
    {
     "name": "stderr",
     "output_type": "stream",
     "text": [
      "INFO:polyjuice.polyjuice_wrapper:Setup perplexity scorer.\n"
     ]
    },
    {
     "name": "stdout",
     "output_type": "stream",
     "text": [
      "['His behavior is always not responsible..', 'His behavior is always not.']\n"
     ]
    }
   ],
   "source": [
    "#text = \"The project is sustainable.\"\n",
    "text = \"The argument is credible.\"\n",
    "random_blanks = {'The argument [BLANK] credible.', 'The argument is [BLANK].'}\n",
    "\n",
    "examples = [\n",
    "    \"It is great for kids. <|perturb|> [negation] It [BLANK] great for [BLANK]. [SEP] is not [ANSWER]\",\n",
    "    \"The weather is sunny. <|perturb|> [negation] The weather [BLANK] sunny. [SEP] is not [ANSWER]\",\n",
    "    \"He enjoys reading books. <|perturb|> [negation] He [BLANK] enjoys reading books. [SEP] does not [ANSWER]\",\n",
    "    #\"It is a sunny day. <|perturb|> [negation] It [BLANK] a sunny day. [SEP] is not [ANSWER]\"\n",
    "]\n",
    "\n",
    "examples_affixal = [\n",
    "\"It is possible. <|perturb|> [negation] It is [BLANK]. [SEP] impossible [ANSWER]\",\n",
    "\"He is satisfied. <|perturb|> [negation] He is [BLANK]. [SEP] dissatisfied [ANSWER]\",\n",
    "\"The statement is logical. <|perturb|> [negation] The statement is [BLANK]. [SEP] illogical [ANSWER]\",\n",
    "#\"The instructions were straightforward and uncomplicated. <|perturb|> [negation] The instructions were straightforward and [BLANK]. [SEP] complicated [ANSWER]\"\n",
    "\"She is happy. <|perturb|> [negation] She is [BLANK]. [SEP] unhappy [ANSWER]\",\n",
    "\"The idea is common. <|perturb|> [negation] The idea is [BLANK]. [SEP] uncommon [ANSWER]\"\n",
    "]\n",
    "\n",
    "examplesd = [\n",
    "    \"I saw nothing at all. <|perturb|> [negation] I saw [BLANK]. [SEP] something [ANSWER]\"\n",
    "    \"I found his story wholly convincing. <|perturb|> [negation] I found his story wholly [BLANK] convincing. [SEP] not [ANSWER]\"\n",
    "    \"She rarely goes out these days. <|perturb|> [negation]\tShe [BLANK] goes out these days. [SEP] never [ANSWER]\"\n",
    "    \"Bricks are made of clay in some context. <|perturb|> [negation] Bricks are made of clay in [BLANK] context. [SEP] no [ANSWER] \"\n",
    "\n",
    "]\n",
    "\n",
    "examples = [\n",
    "    \"It is possible. <|perturb|> [negation] It is [BLANK]. [SEP] impossible [ANSWER]\",\n",
    "    \"It is possible. <|perturb|> [negation] It is [BLANK]. [SEP] not possible [ANSWER]\",\n",
    "    #\"He is satisfied. <|perturb|> [negation] He is [BLANK]. [SEP] dissatisfied [ANSWER]\",\n",
    "    \"The statement is logical. <|perturb|> [negation] The statement is [BLANK]. [SEP] illogical [ANSWER]\",\n",
    "    \"The statement is logical. <|perturb|> [negation] The statement is [BLANK]. [SEP] not logical [ANSWER]\"\n",
    "    \"She is happy. <|perturb|> [negation] She is [BLANK]. [SEP] unhappy [ANSWER]\",\n",
    "    \"The idea is common. <|perturb|> [negation] The idea is [BLANK]. [SEP] uncommon [ANSWER]\",\n",
    "    #\"This action is reversible. <|perturb|> [negation] This action is [BLANK]. [SEP] irreversible [ANSWER]\",\n",
    "    #\"The argument is credible. <|perturb|> [negation] The argument is [BLANK]. [SEP] incredible [ANSWER]\",\n",
    "    #\"His behavior is responsible. <|perturb|> [negation] His behavior is [BLANK]. [SEP] irresponsible [ANSWER]\",\n",
    "    #\"The phenomenon is regular. <|perturb|> [negation] The phenomenon is [BLANK]. [SEP] irregular [ANSWER]\",\n",
    "    #\"Her decision is rational. <|perturb|> [negation] Her decision is [BLANK]. [SEP] irrational [ANSWER]\"\n",
    "]\n",
    "\n",
    "text = \"His behavior is always responsible.\"\n",
    "random_blanks = {'His behavior is [BLANK] responsible.', 'His behavior is always [BLANK].'}\n",
    "\n",
    "\n",
    "generator = PerturbationGenerator() \n",
    "\n",
    "prompt_list = generator.get_prompt_context(text,random_blanks,examples_affixal) # join the context and the inference example\n",
    "print(prompt_list)\n",
    "\n",
    "generated_sequences = generator.generate_on_prompts(prompt_list, temperature=1, num_beams=5, do_sample=True, batch_size=128, num_return_sequences=3)\n",
    "\n",
    "valid_list = generator.validate_and_sample_perturbations(generated_sequences, text, perplex_thred=100, num_perturbations=4)\n",
    "print(valid_list)\n"
   ]
  },
  {
   "cell_type": "code",
   "execution_count": null,
   "metadata": {},
   "outputs": [],
   "source": [
    "prompts = generator.get_prompts(text, random_blanks)\n",
    "print(prompts)\n",
    "\n",
    "generated_sequences = generator.generate_on_prompts(prompts, temperature=1, num_beams=5, do_sample=True, batch_size=128, num_return_sequences=3)\n",
    "\n",
    "listado = generator.validate_and_sample_perturbations(generated_sequences, text, perplex_thred=10, num_perturbations=4)\n",
    "print(listado)"
   ]
  },
  {
   "cell_type": "code",
   "execution_count": null,
   "metadata": {},
   "outputs": [],
   "source": [
    "generated_sequences"
   ]
  },
  {
   "cell_type": "markdown",
   "metadata": {},
   "source": [
    "# Soft prompting with Hugging Face"
   ]
  },
  {
   "cell_type": "markdown",
   "metadata": {},
   "source": [
    "### Data preprocessing"
   ]
  },
  {
   "cell_type": "code",
   "execution_count": 14,
   "metadata": {},
   "outputs": [
    {
     "name": "stderr",
     "output_type": "stream",
     "text": [
      "c:\\Users\\daria\\anaconda3\\envs\\negation\\lib\\site-packages\\huggingface_hub\\file_download.py:1132: FutureWarning: `resume_download` is deprecated and will be removed in version 1.0.0. Downloads always resume when possible. If you want to force a new download, use `force_download=True`.\n",
      "  warnings.warn(\n"
     ]
    },
    {
     "ename": "ValueError",
     "evalue": "1 columns passed, passed data had 2 columns",
     "output_type": "error",
     "traceback": [
      "\u001b[1;31m---------------------------------------------------------------------------\u001b[0m",
      "\u001b[1;31mAssertionError\u001b[0m                            Traceback (most recent call last)",
      "File \u001b[1;32mc:\\Users\\daria\\anaconda3\\envs\\negation\\lib\\site-packages\\pandas\\core\\internals\\construction.py:939\u001b[0m, in \u001b[0;36m_finalize_columns_and_data\u001b[1;34m(content, columns, dtype)\u001b[0m\n\u001b[0;32m    938\u001b[0m \u001b[38;5;28;01mtry\u001b[39;00m:\n\u001b[1;32m--> 939\u001b[0m     columns \u001b[38;5;241m=\u001b[39m \u001b[43m_validate_or_indexify_columns\u001b[49m\u001b[43m(\u001b[49m\u001b[43mcontents\u001b[49m\u001b[43m,\u001b[49m\u001b[43m \u001b[49m\u001b[43mcolumns\u001b[49m\u001b[43m)\u001b[49m\n\u001b[0;32m    940\u001b[0m \u001b[38;5;28;01mexcept\u001b[39;00m \u001b[38;5;167;01mAssertionError\u001b[39;00m \u001b[38;5;28;01mas\u001b[39;00m err:\n\u001b[0;32m    941\u001b[0m     \u001b[38;5;66;03m# GH#26429 do not raise user-facing AssertionError\u001b[39;00m\n",
      "File \u001b[1;32mc:\\Users\\daria\\anaconda3\\envs\\negation\\lib\\site-packages\\pandas\\core\\internals\\construction.py:986\u001b[0m, in \u001b[0;36m_validate_or_indexify_columns\u001b[1;34m(content, columns)\u001b[0m\n\u001b[0;32m    984\u001b[0m \u001b[38;5;28;01mif\u001b[39;00m \u001b[38;5;129;01mnot\u001b[39;00m is_mi_list \u001b[38;5;129;01mand\u001b[39;00m \u001b[38;5;28mlen\u001b[39m(columns) \u001b[38;5;241m!=\u001b[39m \u001b[38;5;28mlen\u001b[39m(content):  \u001b[38;5;66;03m# pragma: no cover\u001b[39;00m\n\u001b[0;32m    985\u001b[0m     \u001b[38;5;66;03m# caller's responsibility to check for this...\u001b[39;00m\n\u001b[1;32m--> 986\u001b[0m     \u001b[38;5;28;01mraise\u001b[39;00m \u001b[38;5;167;01mAssertionError\u001b[39;00m(\n\u001b[0;32m    987\u001b[0m         \u001b[38;5;124mf\u001b[39m\u001b[38;5;124m\"\u001b[39m\u001b[38;5;132;01m{\u001b[39;00m\u001b[38;5;28mlen\u001b[39m(columns)\u001b[38;5;132;01m}\u001b[39;00m\u001b[38;5;124m columns passed, passed data had \u001b[39m\u001b[38;5;124m\"\u001b[39m\n\u001b[0;32m    988\u001b[0m         \u001b[38;5;124mf\u001b[39m\u001b[38;5;124m\"\u001b[39m\u001b[38;5;132;01m{\u001b[39;00m\u001b[38;5;28mlen\u001b[39m(content)\u001b[38;5;132;01m}\u001b[39;00m\u001b[38;5;124m columns\u001b[39m\u001b[38;5;124m\"\u001b[39m\n\u001b[0;32m    989\u001b[0m     )\n\u001b[0;32m    990\u001b[0m \u001b[38;5;28;01mif\u001b[39;00m is_mi_list:\n\u001b[0;32m    991\u001b[0m     \u001b[38;5;66;03m# check if nested list column, length of each sub-list should be equal\u001b[39;00m\n",
      "\u001b[1;31mAssertionError\u001b[0m: 1 columns passed, passed data had 2 columns",
      "\nThe above exception was the direct cause of the following exception:\n",
      "\u001b[1;31mValueError\u001b[0m                                Traceback (most recent call last)",
      "Cell \u001b[1;32mIn[14], line 105\u001b[0m\n\u001b[0;32m    103\u001b[0m \u001b[38;5;66;03m# Load affixal negations dataset in the right format for training\u001b[39;00m\n\u001b[0;32m    104\u001b[0m affixal_df \u001b[38;5;241m=\u001b[39m \u001b[38;5;124m'\u001b[39m\u001b[38;5;124m../data/affixal/filtered_df.pkl\u001b[39m\u001b[38;5;124m'\u001b[39m \u001b[38;5;66;03m# Specify the path to the pickle file\u001b[39;00m\n\u001b[1;32m--> 105\u001b[0m train_dataset \u001b[38;5;241m=\u001b[39m \u001b[43mprocess_dataframe\u001b[49m\u001b[43m(\u001b[49m\u001b[43maffixal_df\u001b[49m\u001b[43m,\u001b[49m\u001b[43mtext_gen\u001b[49m\u001b[43m)\u001b[49m\n\u001b[0;32m    106\u001b[0m tokenized_datasets \u001b[38;5;241m=\u001b[39m train_dataset\u001b[38;5;241m.\u001b[39mmap(text_gen\u001b[38;5;241m.\u001b[39mtokenize_function, batched\u001b[38;5;241m=\u001b[39m\u001b[38;5;28;01mTrue\u001b[39;00m, remove_columns\u001b[38;5;241m=\u001b[39m[\u001b[38;5;124m\"\u001b[39m\u001b[38;5;124minput_text\u001b[39m\u001b[38;5;124m\"\u001b[39m, \u001b[38;5;124m\"\u001b[39m\u001b[38;5;124mtarget_text\u001b[39m\u001b[38;5;124m\"\u001b[39m])\n",
      "Cell \u001b[1;32mIn[14], line 94\u001b[0m, in \u001b[0;36mprocess_dataframe\u001b[1;34m(affixal_path, text_format)\u001b[0m\n\u001b[0;32m     91\u001b[0m     train_data\u001b[38;5;241m.\u001b[39mappend(example)\n\u001b[0;32m     93\u001b[0m \u001b[38;5;66;03m# Convert to a suitable format for Hugging Face Dataset\u001b[39;00m\n\u001b[1;32m---> 94\u001b[0m train_dataset\u001b[38;5;241m=\u001b[39m \u001b[43mpd\u001b[49m\u001b[38;5;241;43m.\u001b[39;49m\u001b[43mDataFrame\u001b[49m\u001b[43m(\u001b[49m\u001b[43mtrain_data\u001b[49m\u001b[43m,\u001b[49m\u001b[43m \u001b[49m\u001b[43mcolumns\u001b[49m\u001b[38;5;241;43m=\u001b[39;49m\u001b[43m[\u001b[49m\u001b[38;5;124;43m\"\u001b[39;49m\u001b[38;5;124;43minput_text\u001b[39;49m\u001b[38;5;124;43m\"\u001b[39;49m\u001b[43m]\u001b[49m\u001b[43m)\u001b[49m\n\u001b[0;32m     95\u001b[0m train_dataset \u001b[38;5;241m=\u001b[39m Dataset\u001b[38;5;241m.\u001b[39mfrom_pandas(train_dataset)\n\u001b[0;32m     97\u001b[0m \u001b[38;5;28;01mreturn\u001b[39;00m train_dataset\n",
      "File \u001b[1;32mc:\\Users\\daria\\anaconda3\\envs\\negation\\lib\\site-packages\\pandas\\core\\frame.py:851\u001b[0m, in \u001b[0;36mDataFrame.__init__\u001b[1;34m(self, data, index, columns, dtype, copy)\u001b[0m\n\u001b[0;32m    849\u001b[0m     \u001b[38;5;28;01mif\u001b[39;00m columns \u001b[38;5;129;01mis\u001b[39;00m \u001b[38;5;129;01mnot\u001b[39;00m \u001b[38;5;28;01mNone\u001b[39;00m:\n\u001b[0;32m    850\u001b[0m         columns \u001b[38;5;241m=\u001b[39m ensure_index(columns)\n\u001b[1;32m--> 851\u001b[0m     arrays, columns, index \u001b[38;5;241m=\u001b[39m \u001b[43mnested_data_to_arrays\u001b[49m\u001b[43m(\u001b[49m\n\u001b[0;32m    852\u001b[0m \u001b[43m        \u001b[49m\u001b[38;5;66;43;03m# error: Argument 3 to \"nested_data_to_arrays\" has incompatible\u001b[39;49;00m\n\u001b[0;32m    853\u001b[0m \u001b[43m        \u001b[49m\u001b[38;5;66;43;03m# type \"Optional[Collection[Any]]\"; expected \"Optional[Index]\"\u001b[39;49;00m\n\u001b[0;32m    854\u001b[0m \u001b[43m        \u001b[49m\u001b[43mdata\u001b[49m\u001b[43m,\u001b[49m\n\u001b[0;32m    855\u001b[0m \u001b[43m        \u001b[49m\u001b[43mcolumns\u001b[49m\u001b[43m,\u001b[49m\n\u001b[0;32m    856\u001b[0m \u001b[43m        \u001b[49m\u001b[43mindex\u001b[49m\u001b[43m,\u001b[49m\u001b[43m  \u001b[49m\u001b[38;5;66;43;03m# type: ignore[arg-type]\u001b[39;49;00m\n\u001b[0;32m    857\u001b[0m \u001b[43m        \u001b[49m\u001b[43mdtype\u001b[49m\u001b[43m,\u001b[49m\n\u001b[0;32m    858\u001b[0m \u001b[43m    \u001b[49m\u001b[43m)\u001b[49m\n\u001b[0;32m    859\u001b[0m     mgr \u001b[38;5;241m=\u001b[39m arrays_to_mgr(\n\u001b[0;32m    860\u001b[0m         arrays,\n\u001b[0;32m    861\u001b[0m         columns,\n\u001b[1;32m   (...)\u001b[0m\n\u001b[0;32m    864\u001b[0m         typ\u001b[38;5;241m=\u001b[39mmanager,\n\u001b[0;32m    865\u001b[0m     )\n\u001b[0;32m    866\u001b[0m \u001b[38;5;28;01melse\u001b[39;00m:\n",
      "File \u001b[1;32mc:\\Users\\daria\\anaconda3\\envs\\negation\\lib\\site-packages\\pandas\\core\\internals\\construction.py:520\u001b[0m, in \u001b[0;36mnested_data_to_arrays\u001b[1;34m(data, columns, index, dtype)\u001b[0m\n\u001b[0;32m    517\u001b[0m \u001b[38;5;28;01mif\u001b[39;00m is_named_tuple(data[\u001b[38;5;241m0\u001b[39m]) \u001b[38;5;129;01mand\u001b[39;00m columns \u001b[38;5;129;01mis\u001b[39;00m \u001b[38;5;28;01mNone\u001b[39;00m:\n\u001b[0;32m    518\u001b[0m     columns \u001b[38;5;241m=\u001b[39m ensure_index(data[\u001b[38;5;241m0\u001b[39m]\u001b[38;5;241m.\u001b[39m_fields)\n\u001b[1;32m--> 520\u001b[0m arrays, columns \u001b[38;5;241m=\u001b[39m \u001b[43mto_arrays\u001b[49m\u001b[43m(\u001b[49m\u001b[43mdata\u001b[49m\u001b[43m,\u001b[49m\u001b[43m \u001b[49m\u001b[43mcolumns\u001b[49m\u001b[43m,\u001b[49m\u001b[43m \u001b[49m\u001b[43mdtype\u001b[49m\u001b[38;5;241;43m=\u001b[39;49m\u001b[43mdtype\u001b[49m\u001b[43m)\u001b[49m\n\u001b[0;32m    521\u001b[0m columns \u001b[38;5;241m=\u001b[39m ensure_index(columns)\n\u001b[0;32m    523\u001b[0m \u001b[38;5;28;01mif\u001b[39;00m index \u001b[38;5;129;01mis\u001b[39;00m \u001b[38;5;28;01mNone\u001b[39;00m:\n",
      "File \u001b[1;32mc:\\Users\\daria\\anaconda3\\envs\\negation\\lib\\site-packages\\pandas\\core\\internals\\construction.py:845\u001b[0m, in \u001b[0;36mto_arrays\u001b[1;34m(data, columns, dtype)\u001b[0m\n\u001b[0;32m    842\u001b[0m     data \u001b[38;5;241m=\u001b[39m [\u001b[38;5;28mtuple\u001b[39m(x) \u001b[38;5;28;01mfor\u001b[39;00m x \u001b[38;5;129;01min\u001b[39;00m data]\n\u001b[0;32m    843\u001b[0m     arr \u001b[38;5;241m=\u001b[39m _list_to_arrays(data)\n\u001b[1;32m--> 845\u001b[0m content, columns \u001b[38;5;241m=\u001b[39m \u001b[43m_finalize_columns_and_data\u001b[49m\u001b[43m(\u001b[49m\u001b[43marr\u001b[49m\u001b[43m,\u001b[49m\u001b[43m \u001b[49m\u001b[43mcolumns\u001b[49m\u001b[43m,\u001b[49m\u001b[43m \u001b[49m\u001b[43mdtype\u001b[49m\u001b[43m)\u001b[49m\n\u001b[0;32m    846\u001b[0m \u001b[38;5;28;01mreturn\u001b[39;00m content, columns\n",
      "File \u001b[1;32mc:\\Users\\daria\\anaconda3\\envs\\negation\\lib\\site-packages\\pandas\\core\\internals\\construction.py:942\u001b[0m, in \u001b[0;36m_finalize_columns_and_data\u001b[1;34m(content, columns, dtype)\u001b[0m\n\u001b[0;32m    939\u001b[0m     columns \u001b[38;5;241m=\u001b[39m _validate_or_indexify_columns(contents, columns)\n\u001b[0;32m    940\u001b[0m \u001b[38;5;28;01mexcept\u001b[39;00m \u001b[38;5;167;01mAssertionError\u001b[39;00m \u001b[38;5;28;01mas\u001b[39;00m err:\n\u001b[0;32m    941\u001b[0m     \u001b[38;5;66;03m# GH#26429 do not raise user-facing AssertionError\u001b[39;00m\n\u001b[1;32m--> 942\u001b[0m     \u001b[38;5;28;01mraise\u001b[39;00m \u001b[38;5;167;01mValueError\u001b[39;00m(err) \u001b[38;5;28;01mfrom\u001b[39;00m \u001b[38;5;21;01merr\u001b[39;00m\n\u001b[0;32m    944\u001b[0m \u001b[38;5;28;01mif\u001b[39;00m \u001b[38;5;28mlen\u001b[39m(contents) \u001b[38;5;129;01mand\u001b[39;00m contents[\u001b[38;5;241m0\u001b[39m]\u001b[38;5;241m.\u001b[39mdtype \u001b[38;5;241m==\u001b[39m np\u001b[38;5;241m.\u001b[39mobject_:\n\u001b[0;32m    945\u001b[0m     contents \u001b[38;5;241m=\u001b[39m convert_object_array(contents, dtype\u001b[38;5;241m=\u001b[39mdtype)\n",
      "\u001b[1;31mValueError\u001b[0m: 1 columns passed, passed data had 2 columns"
     ]
    }
   ],
   "source": [
    "import torch\n",
    "from transformers import AutoTokenizer, AutoModelForCausalLM\n",
    "import pandas as pd\n",
    "from datasets import Dataset\n",
    "\n",
    "class TextGenerationSetup:\n",
    "\n",
    "    \"\"\"\n",
    "    Class used to setup the prompts format for training\n",
    "    \"\"\"\n",
    "    \n",
    "    PERETURB_TOK = \"<|perturb|>\"\n",
    "    BLANK_TOK = \"[BLANK]\"\n",
    "    SEP_TOK = \"[SEP]\"\n",
    "    ANSWER_TOK = \"[ANSWER]\"\n",
    "\n",
    "    def __init__(self, model_path):\n",
    "        self.device = torch.device(\"cuda\" if torch.cuda.is_available() else \"cpu\")\n",
    "        self.tokenizer = AutoTokenizer.from_pretrained(model_path)\n",
    "        self.tokenizer.pad_token = self.tokenizer.eos_token\n",
    "        self.model = AutoModelForCausalLM.from_pretrained(model_path).to(self.device)\n",
    "\n",
    "\n",
    "    def get_prompts(self,doc, blanked_sents, is_complete_blank=True):\n",
    "        prompts = []\n",
    "        for bt in blanked_sents:\n",
    "            tag = 'negation'\n",
    "            sep_tok = TextGenerationSetup.SEP_TOK if bt and is_complete_blank else \"\"\n",
    "            new_prompt = f\"{doc.strip()} {TextGenerationSetup.PERETURB_TOK} [{tag}] {bt.strip()}\".strip()\n",
    "            prompts.append(new_prompt)\n",
    "            #prompts.append(new_prompt.rstrip('.').strip())\n",
    "        return prompts\n",
    "\n",
    "    def get_answer(self,answer):\n",
    "        prompts = []\n",
    "        prompts.append(f\"{TextGenerationSetup.SEP_TOK} {answer.strip()} {TextGenerationSetup.ANSWER_TOK}\")\n",
    "        #prompts.append(answer.strip())\n",
    "        return prompts\n",
    "\n",
    "    def tokenize_function(self, examples):\n",
    "\n",
    "        input_encodings = self.tokenizer(examples['input_text'], truncation=True, padding=\"max_length\", max_length=50)\n",
    "        target_encodings = self.tokenizer(examples['target_text'], truncation=True, padding=\"max_length\", max_length=50)\n",
    "        labels = target_encodings['input_ids']\n",
    "        input_encodings[\"labels\"] = labels\n",
    "\n",
    "        return input_encodings\n",
    "    \n",
    "def process_dataframe(affixal_path, text_format ):\n",
    "\n",
    "    \"\"\"\n",
    "    Processes a DataFrame containing text data to generate a dataset suitable for text generation tasks.\n",
    "\n",
    "    This function reads a DataFrame from a pickle file, processes each row to replace specific cues with \n",
    "    a blank token, generates prompts and answers in the required format, and converts the processed data \n",
    "    into a format suitable for training a Hugging Face model.\n",
    "\n",
    "    Args:\n",
    "        affixal_path (str): Path to the pickle file containing the DataFrame with text data.\n",
    "        text_format (TextGenerationSetup): An instance of the TextGenerationSetup class used for formatting prompts and answers.\n",
    "\n",
    "    Returns:\n",
    "        Dataset: A Hugging Face Dataset object containing the processed input and target texts.\n",
    "    \"\"\"\n",
    "\n",
    "    train_data = []\n",
    "    sentence_mask = True\n",
    "\n",
    "    # Load the DataFrame from the pickle file\n",
    "    filtered_df = pd.read_pickle(affixal_path)\n",
    "\n",
    "    for _, row in filtered_df.iterrows():\n",
    "        text = row['text']\n",
    "        text_pos = row['text_substituted']\n",
    "        cue = row['cues'].split()[0]  # Assuming 'cues' column contains space-separated cues\n",
    "        \n",
    "        if sentence_mask :\n",
    "            # Replace the cue in the text with '[BLANK]'\n",
    "            text_with_blank = text.replace(cue, '[BLANK]')\n",
    "            \n",
    "            # Generate the prompt and answer\n",
    "            prompt_examples = text_format.get_prompts(text_pos, [text_with_blank]) # format the input prompts\n",
    "            answer_formatted = text_format.get_answer(cue) # format the answer\n",
    "        else:\n",
    "            text_with_blank = '[BLANK]'\n",
    "            prompt_examples = text_format.get_prompts(text_pos, [text_with_blank]) # format the input prompts\n",
    "            answer_formatted = text_format.get_answer(text_pos) # format the answer\n",
    "        \n",
    "        # Combine the prompt and answer in the required format\n",
    "        example = (prompt_examples[0], answer_formatted[0])\n",
    "        train_data.append(example)\n",
    "\n",
    "    # Convert to a suitable format for Hugging Face Dataset\n",
    "    train_dataset= pd.DataFrame(train_data, columns=[\"input_text\"])\n",
    "    train_dataset = Dataset.from_pandas(train_dataset)\n",
    "    \n",
    "    return train_dataset\n",
    "\n",
    "# Setup the model\n",
    "model_path = \"uw-hai/polyjuice\"  \n",
    "text_gen = TextGenerationSetup(model_path)\n",
    "\n",
    "# Load affixal negations dataset in the right format for training\n",
    "affixal_df = '../data/affixal/filtered_df.pkl' # Specify the path to the pickle file\n",
    "train_dataset = process_dataframe(affixal_df,text_gen)\n",
    "tokenized_datasets = train_dataset.map(text_gen.tokenize_function, batched=True, remove_columns=[\"input_text\", \"target_text\"])\n"
   ]
  },
  {
   "cell_type": "code",
   "execution_count": 12,
   "metadata": {},
   "outputs": [],
   "source": [
    "filtered_df = pd.read_pickle(affixal_df)\n",
    "#filtered_df"
   ]
  },
  {
   "cell_type": "code",
   "execution_count": 13,
   "metadata": {},
   "outputs": [
    {
     "data": {
      "text/plain": [
       "{'input_text': 'makes for a pretty pleasant viewing experience . <|perturb|> [negation] makes for a pretty [BLANK] viewing experience .',\n",
       " 'target_text': '[SEP] unpleasant [ANSWER]'}"
      ]
     },
     "execution_count": 13,
     "metadata": {},
     "output_type": "execute_result"
    }
   ],
   "source": [
    "train_dataset[8]"
   ]
  },
  {
   "cell_type": "markdown",
   "metadata": {},
   "source": [
    "### TRAINING"
   ]
  },
  {
   "cell_type": "code",
   "execution_count": 24,
   "metadata": {},
   "outputs": [
    {
     "name": "stdout",
     "output_type": "stream",
     "text": [
      "trainable params: 7,680 || all params: 124,447,488 || trainable%: 0.006171277639609728\n",
      "None\n"
     ]
    },
    {
     "name": "stderr",
     "output_type": "stream",
     "text": [
      "                                              \n",
      " 17%|█▋        | 4/24 [07:34<00:33,  1.67s/it] "
     ]
    },
    {
     "name": "stdout",
     "output_type": "stream",
     "text": [
      "Epoch 1.0: log history is empty or not accessible\n",
      "{'loss': 5.6344, 'learning_rate': 0.0027692307692307695, 'epoch': 1.0}\n"
     ]
    },
    {
     "name": "stderr",
     "output_type": "stream",
     "text": [
      "                                              \n",
      " 17%|█▋        | 4/24 [07:56<00:33,  1.67s/it]  "
     ]
    },
    {
     "name": "stdout",
     "output_type": "stream",
     "text": [
      "Epoch 2.0: loss = 5.6344\n",
      "{'loss': 5.6082, 'learning_rate': 0.0025384615384615385, 'epoch': 2.0}\n"
     ]
    },
    {
     "name": "stderr",
     "output_type": "stream",
     "text": [
      "                                              \n",
      " 17%|█▋        | 4/24 [08:17<00:33,  1.67s/it]  "
     ]
    },
    {
     "name": "stdout",
     "output_type": "stream",
     "text": [
      "Epoch 3.0: loss = 5.6082\n",
      "{'loss': 5.5178, 'learning_rate': 0.002307692307692308, 'epoch': 3.0}\n"
     ]
    },
    {
     "name": "stderr",
     "output_type": "stream",
     "text": [
      "                                              \n",
      " 17%|█▋        | 4/24 [08:38<00:33,  1.67s/it]  "
     ]
    },
    {
     "name": "stdout",
     "output_type": "stream",
     "text": [
      "Epoch 4.0: loss = 5.5178\n",
      "{'loss': 5.4896, 'learning_rate': 0.002076923076923077, 'epoch': 4.0}\n"
     ]
    },
    {
     "name": "stderr",
     "output_type": "stream",
     "text": [
      "                                              \n",
      " 17%|█▋        | 4/24 [08:59<00:33,  1.67s/it]  "
     ]
    },
    {
     "name": "stdout",
     "output_type": "stream",
     "text": [
      "Epoch 5.0: loss = 5.4896\n",
      "{'loss': 5.4671, 'learning_rate': 0.0018461538461538463, 'epoch': 5.0}\n"
     ]
    },
    {
     "name": "stderr",
     "output_type": "stream",
     "text": [
      "                                              \n",
      " 17%|█▋        | 4/24 [09:19<00:33,  1.67s/it]  "
     ]
    },
    {
     "name": "stdout",
     "output_type": "stream",
     "text": [
      "Epoch 6.0: loss = 5.4671\n",
      "{'loss': 5.533, 'learning_rate': 0.0016153846153846153, 'epoch': 6.0}\n"
     ]
    },
    {
     "name": "stderr",
     "output_type": "stream",
     "text": [
      "                                              \n",
      " 17%|█▋        | 4/24 [09:45<00:33,  1.67s/it]  "
     ]
    },
    {
     "name": "stdout",
     "output_type": "stream",
     "text": [
      "Epoch 7.0: loss = 5.533\n",
      "{'loss': 5.4229, 'learning_rate': 0.0013846153846153847, 'epoch': 7.0}\n"
     ]
    },
    {
     "name": "stderr",
     "output_type": "stream",
     "text": [
      "                                              \n",
      " 17%|█▋        | 4/24 [10:06<00:33,  1.67s/it]  "
     ]
    },
    {
     "name": "stdout",
     "output_type": "stream",
     "text": [
      "Epoch 8.0: loss = 5.4229\n",
      "{'loss': 5.4644, 'learning_rate': 0.001153846153846154, 'epoch': 8.0}\n"
     ]
    },
    {
     "name": "stderr",
     "output_type": "stream",
     "text": [
      "                                              \n",
      " 17%|█▋        | 4/24 [10:31<00:33,  1.67s/it]  "
     ]
    },
    {
     "name": "stdout",
     "output_type": "stream",
     "text": [
      "Epoch 9.0: loss = 5.4644\n",
      "{'loss': 5.4238, 'learning_rate': 0.0009230769230769232, 'epoch': 9.0}\n"
     ]
    },
    {
     "name": "stderr",
     "output_type": "stream",
     "text": [
      "                                              \n",
      " 17%|█▋        | 4/24 [10:56<00:33,  1.67s/it]  "
     ]
    },
    {
     "name": "stdout",
     "output_type": "stream",
     "text": [
      "Epoch 10.0: loss = 5.4238\n",
      "{'loss': 5.2786, 'learning_rate': 0.0006923076923076924, 'epoch': 10.0}\n"
     ]
    },
    {
     "name": "stderr",
     "output_type": "stream",
     "text": [
      "                                              \n",
      " 17%|█▋        | 4/24 [11:05<00:33,  1.67s/it]  "
     ]
    },
    {
     "name": "stdout",
     "output_type": "stream",
     "text": [
      "Epoch 11.0: loss = 5.2786\n",
      "{'loss': 5.3601, 'learning_rate': 0.0004615384615384616, 'epoch': 11.0}\n"
     ]
    },
    {
     "name": "stderr",
     "output_type": "stream",
     "text": [
      "                                              \n",
      " 17%|█▋        | 4/24 [11:13<00:33,  1.67s/it]  "
     ]
    },
    {
     "name": "stdout",
     "output_type": "stream",
     "text": [
      "Epoch 12.0: loss = 5.3601\n",
      "{'loss': 5.337, 'learning_rate': 0.0002307692307692308, 'epoch': 12.0}\n"
     ]
    },
    {
     "name": "stderr",
     "output_type": "stream",
     "text": [
      "                                              \n",
      "                                                 \n",
      "100%|██████████| 104/104 [03:55<00:00,  2.26s/it]\n"
     ]
    },
    {
     "name": "stdout",
     "output_type": "stream",
     "text": [
      "Epoch 13.0: loss = 5.337\n",
      "{'loss': 5.2675, 'learning_rate': 0.0, 'epoch': 13.0}\n",
      "{'train_runtime': 235.2603, 'train_samples_per_second': 3.26, 'train_steps_per_second': 0.442, 'train_loss': 5.446485556088961, 'epoch': 13.0}\n"
     ]
    }
   ],
   "source": [
    "import os\n",
    "from transformers import TrainingArguments, Trainer, DataCollatorForLanguageModeling\n",
    "from peft import PromptTuningConfig, TaskType, PromptTuningInit, get_peft_model\n",
    "from peft import PeftModel\n",
    "from transformers import TrainerCallback\n",
    "\n",
    "\n",
    "class PrintLossCallback(TrainerCallback):\n",
    "    def on_epoch_end(self, args, state, control, **kwargs):\n",
    "        # Check if log history is not empty\n",
    "        if state.log_history and state.is_local_process_zero:\n",
    "            # Print the loss if it's available in the last log entry\n",
    "            if 'loss' in state.log_history[-1]:\n",
    "                print(f\"Epoch {state.epoch}: loss = {state.log_history[-1]['loss']}\")\n",
    "            else:\n",
    "                print(f\"Epoch {state.epoch}: loss not available\")\n",
    "        else:\n",
    "            print(f\"Epoch {state.epoch}: log history is empty or not accessible\")\n",
    "\n",
    "class ModelTrainer:\n",
    "    def __init__(self, model, tokenizer, working_dir=\"./\", output_dir_name=\"peft_outputs\"):\n",
    "        self.working_dir = working_dir\n",
    "        self.output_dir_name = output_dir_name\n",
    "        self.output_directory = self.create_model_directories(self.working_dir, self.output_dir_name)\n",
    "        self.model_name = \"uw-hai/polyjuice\"\n",
    "        self.foundational_model = model\n",
    "        self.tokenizer = tokenizer\n",
    "    \n",
    "    def create_model_directories(self, base_dir, output_dir_name):\n",
    "        \"\"\"\n",
    "        Creates the base and output directories for storing models if they do not exist.\n",
    "        \n",
    "        Parameters:\n",
    "        base_dir (str): The base working directory.\n",
    "        output_dir_name (str): The name of the output directory.\n",
    "        \n",
    "        Returns:\n",
    "        str: The path to the output directory.\n",
    "        \"\"\"\n",
    "        # Create the name of the output directory\n",
    "        output_directory = os.path.join(base_dir, output_dir_name)\n",
    "        \n",
    "        # Create the base directory if it does not exist\n",
    "        if not os.path.exists(base_dir):\n",
    "            os.mkdir(base_dir)\n",
    "        \n",
    "        # Create the output directory if it does not exist\n",
    "        if not os.path.exists(output_directory):\n",
    "            os.mkdir(output_directory)\n",
    "        \n",
    "        return output_directory\n",
    "    \n",
    "    def create_training_arguments(self, path, learning_rate=0.0035, epochs=6):\n",
    "        training_args = TrainingArguments(\n",
    "            output_dir=path, # Where the model predictions and checkpoints will be written\n",
    "            #use_cpu=True, # This is necessary for CPU clusters.\n",
    "            #auto_find_batch_size=True, # Find a suitable batch size that will fit into memory automatically\n",
    "            per_device_train_batch_size=8,\n",
    "            learning_rate=learning_rate, # Higher learning rate than full Fine-Tuning\n",
    "            num_train_epochs=epochs,\n",
    "            logging_strategy=\"epoch\"\n",
    "        )\n",
    "        return training_args\n",
    "\n",
    "    def create_trainer(self, model, training_args, train_dataset):\n",
    "        trainer = Trainer(\n",
    "            model=model, # We pass in the PEFT version of the foundation model, bloomz-560M\n",
    "            args=training_args, # The args for the training.\n",
    "            train_dataset=train_dataset, # The dataset used to train the model.\n",
    "            callbacks=[PrintLossCallback()],\n",
    "            data_collator=DataCollatorForLanguageModeling(self.tokenizer, mlm=False) # mlm=False indicates not to use masked language modeling\n",
    "        )\n",
    "        return trainer\n",
    "    \n",
    "    def train_model(self, tokenizer, tokenized_datasets, num_virtual_tokens=4, num_epochs=2, learning_rate=0.003):\n",
    "        # Define prompt tuning configuration\n",
    "        peft_config = PromptTuningConfig(\n",
    "            task_type=TaskType.CAUSAL_LM, # This type indicates the model will generate text.\n",
    "            prompt_tuning_init=PromptTuningInit.RANDOM,  # The added virtual tokens are initialized with random numbers\n",
    "            num_virtual_tokens=num_virtual_tokens, # Number of virtual tokens to be added and trained.\n",
    "            tokenizer_name_or_path=self.model_name # The pre-trained model.\n",
    "        )\n",
    "        \n",
    "        peft_model = get_peft_model(self.foundational_model, peft_config)\n",
    "        print(peft_model.print_trainable_parameters())\n",
    "        \n",
    "        training_args = self.create_training_arguments(self.output_directory, learning_rate, num_epochs)\n",
    "        \n",
    "        trainer_prompt = self.create_trainer(peft_model, training_args, tokenized_datasets)\n",
    "        trainer_prompt.train()\n",
    "        \n",
    "        # Save the trained model\n",
    "        trainer_prompt.model.save_pretrained(self.output_directory)\n",
    "\n",
    "        return trainer_prompt\n",
    "    \n",
    "    #this function returns the outputs from the model received, and inputs.\n",
    "    def get_outputs(self,model,inputs,do_sample=True,num_beams=None,num_return_sequences = 3):\n",
    "        \"\"\"\n",
    "        Generates multiple sequences of text using the provided model and inputs.\n",
    "\n",
    "        Args:\n",
    "            model: The model used for generation.\n",
    "            inputs (dict): Input tensors including 'input_ids' and 'attention_mask'.\n",
    "            do_sample (bool, optional): Whether to use sampling during generation (default: True).\n",
    "            num_beams (int, optional): Number of beams for beam search. Overrides `do_sample`.\n",
    "            num_return_sequences (int, optional): Number of sequences to generate per input (default: 3).\n",
    "\n",
    "        Returns:\n",
    "            torch.Tensor: Tensor containing generated sequences.\n",
    "        \"\"\"\n",
    "\n",
    "        outputs = model.generate(\n",
    "            input_ids=inputs[\"input_ids\"],\n",
    "            attention_mask=inputs[\"attention_mask\"],\n",
    "            max_length=30,\n",
    "            early_stopping=False, #if num_beams is None else True, #The model can stop before reach the max_length\n",
    "            temperature= 1,\n",
    "            num_beams=1 if num_beams is None else num_beams,\n",
    "            do_sample=num_beams is None and do_sample,\n",
    "            num_return_sequences=num_return_sequences,\n",
    "        )\n",
    "        return outputs\n",
    "    \n",
    "    def inference (self,input_prompt,num_return_sequences = 3, num_beams = 5 ):\n",
    "        \"\"\"\n",
    "        Generate text sequences based on an input prompt using a pretrained model saved in the directory.\n",
    "\n",
    "        Args:\n",
    "            input_prompt (str): The input prompt text to generate sequences from.\n",
    "\n",
    "        Returns:\n",
    "            list: List of generated text sequences as decoded by the tokenizer, without special tokens.\n",
    "        \"\"\"\n",
    "\n",
    "        loaded_model_prompt = PeftModel.from_pretrained(self.foundational_model,\n",
    "                                         self.output_directory,\n",
    "                                         device_map='auto',\n",
    "                                         is_trainable=False)\n",
    "        \n",
    "        input_prompt_tok = self.tokenizer(input_prompt, return_tensors=\"pt\")\n",
    "        loaded_model_prompt_outputs = self.get_outputs(loaded_model_prompt, input_prompt_tok,num_beams = num_beams,num_return_sequences = num_return_sequences)\n",
    "        result = self.tokenizer.batch_decode(loaded_model_prompt_outputs, skip_special_tokens=True)\n",
    "\n",
    "        return result\n",
    "\n",
    "##############################\n",
    "\n",
    "# Define your foundational model, tokenizer, and tokenized datasets\n",
    "foundational_model = text_gen.model\n",
    "model_name = \"uw-hai/polyjuice\"\n",
    "tokenizer = text_gen.tokenizer\n",
    "\n",
    "# Initialize the ModelTrainer class\n",
    "trainer = ModelTrainer(model=foundational_model, tokenizer=tokenizer)\n",
    "\n",
    "# Train the model\n",
    "trainer_module = trainer.train_model(tokenizer, tokenized_datasets,num_virtual_tokens=10, num_epochs=13) #13"
   ]
  },
  {
   "cell_type": "code",
   "execution_count": 25,
   "metadata": {},
   "outputs": [
    {
     "data": {
      "text/plain": [
       "Dataset({\n",
       "    features: ['input_ids', 'attention_mask', 'labels'],\n",
       "    num_rows: 59\n",
       "})"
      ]
     },
     "execution_count": 25,
     "metadata": {},
     "output_type": "execute_result"
    }
   ],
   "source": [
    "tokenized_datasets"
   ]
  },
  {
   "cell_type": "code",
   "execution_count": 26,
   "metadata": {},
   "outputs": [
    {
     "data": {
      "text/html": [
       "<div>\n",
       "<style scoped>\n",
       "    .dataframe tbody tr th:only-of-type {\n",
       "        vertical-align: middle;\n",
       "    }\n",
       "\n",
       "    .dataframe tbody tr th {\n",
       "        vertical-align: top;\n",
       "    }\n",
       "\n",
       "    .dataframe thead th {\n",
       "        text-align: right;\n",
       "    }\n",
       "</style>\n",
       "<table border=\"1\" class=\"dataframe\">\n",
       "  <thead>\n",
       "    <tr style=\"text-align: right;\">\n",
       "      <th></th>\n",
       "      <th>loss</th>\n",
       "      <th>learning_rate</th>\n",
       "      <th>epoch</th>\n",
       "      <th>step</th>\n",
       "      <th>train_runtime</th>\n",
       "      <th>train_samples_per_second</th>\n",
       "      <th>train_steps_per_second</th>\n",
       "      <th>total_flos</th>\n",
       "      <th>train_loss</th>\n",
       "    </tr>\n",
       "  </thead>\n",
       "  <tbody>\n",
       "    <tr>\n",
       "      <th>0</th>\n",
       "      <td>5.6344</td>\n",
       "      <td>0.002769</td>\n",
       "      <td>1.0</td>\n",
       "      <td>8</td>\n",
       "      <td>NaN</td>\n",
       "      <td>NaN</td>\n",
       "      <td>NaN</td>\n",
       "      <td>NaN</td>\n",
       "      <td>NaN</td>\n",
       "    </tr>\n",
       "    <tr>\n",
       "      <th>1</th>\n",
       "      <td>5.6082</td>\n",
       "      <td>0.002538</td>\n",
       "      <td>2.0</td>\n",
       "      <td>16</td>\n",
       "      <td>NaN</td>\n",
       "      <td>NaN</td>\n",
       "      <td>NaN</td>\n",
       "      <td>NaN</td>\n",
       "      <td>NaN</td>\n",
       "    </tr>\n",
       "    <tr>\n",
       "      <th>2</th>\n",
       "      <td>5.5178</td>\n",
       "      <td>0.002308</td>\n",
       "      <td>3.0</td>\n",
       "      <td>24</td>\n",
       "      <td>NaN</td>\n",
       "      <td>NaN</td>\n",
       "      <td>NaN</td>\n",
       "      <td>NaN</td>\n",
       "      <td>NaN</td>\n",
       "    </tr>\n",
       "    <tr>\n",
       "      <th>3</th>\n",
       "      <td>5.4896</td>\n",
       "      <td>0.002077</td>\n",
       "      <td>4.0</td>\n",
       "      <td>32</td>\n",
       "      <td>NaN</td>\n",
       "      <td>NaN</td>\n",
       "      <td>NaN</td>\n",
       "      <td>NaN</td>\n",
       "      <td>NaN</td>\n",
       "    </tr>\n",
       "    <tr>\n",
       "      <th>4</th>\n",
       "      <td>5.4671</td>\n",
       "      <td>0.001846</td>\n",
       "      <td>5.0</td>\n",
       "      <td>40</td>\n",
       "      <td>NaN</td>\n",
       "      <td>NaN</td>\n",
       "      <td>NaN</td>\n",
       "      <td>NaN</td>\n",
       "      <td>NaN</td>\n",
       "    </tr>\n",
       "  </tbody>\n",
       "</table>\n",
       "</div>"
      ],
      "text/plain": [
       "     loss  learning_rate  epoch  step  train_runtime  \\\n",
       "0  5.6344       0.002769    1.0     8            NaN   \n",
       "1  5.6082       0.002538    2.0    16            NaN   \n",
       "2  5.5178       0.002308    3.0    24            NaN   \n",
       "3  5.4896       0.002077    4.0    32            NaN   \n",
       "4  5.4671       0.001846    5.0    40            NaN   \n",
       "\n",
       "   train_samples_per_second  train_steps_per_second  total_flos  train_loss  \n",
       "0                       NaN                     NaN         NaN         NaN  \n",
       "1                       NaN                     NaN         NaN         NaN  \n",
       "2                       NaN                     NaN         NaN         NaN  \n",
       "3                       NaN                     NaN         NaN         NaN  \n",
       "4                       NaN                     NaN         NaN         NaN  "
      ]
     },
     "execution_count": 26,
     "metadata": {},
     "output_type": "execute_result"
    }
   ],
   "source": [
    "import pandas as pd\n",
    "\n",
    "# Create a dataframe with the logging information\n",
    "df_train_log = pd.DataFrame(trainer_module.state.log_history)\n",
    "df_train_log.head()"
   ]
  },
  {
   "cell_type": "code",
   "execution_count": 27,
   "metadata": {},
   "outputs": [
    {
     "data": {
      "image/png": "[encoded data removed]",
      "text/plain": [
       "<Figure size 1000x500 with 1 Axes>"
      ]
     },
     "metadata": {},
     "output_type": "display_data"
    }
   ],
   "source": [
    "import matplotlib.pyplot as plt\n",
    "import pandas as pd\n",
    "\n",
    "def plot_loss_per_epoch(df):\n",
    "    \"\"\"\n",
    "    Plot the training loss per epoch from a DataFrame.\n",
    "    \n",
    "    Parameters:\n",
    "    df (pd.DataFrame): DataFrame containing 'epoch' and 'loss' columns.\n",
    "    \"\"\"\n",
    "    plt.figure(figsize=(10, 5))\n",
    "    plt.plot(df['epoch'], df['loss'], marker='o', linestyle='-', color='r', label='Training Loss')\n",
    "    plt.xlabel('Epoch')\n",
    "    plt.ylabel('Training Loss')\n",
    "    plt.title('Training Loss per Epoch')\n",
    "    plt.grid(True)\n",
    "    plt.legend()\n",
    "    plt.xticks(df['epoch'])  # Set x-axis ticks to be exactly the epoch values\n",
    "    plt.tight_layout()\n",
    "    plt.show()\n",
    "\n",
    "plot_loss_per_epoch(df_train_log)"
   ]
  },
  {
   "cell_type": "markdown",
   "metadata": {},
   "source": [
    "### INFERENCE"
   ]
  },
  {
   "cell_type": "code",
   "execution_count": 28,
   "metadata": {},
   "outputs": [
    {
     "name": "stderr",
     "output_type": "stream",
     "text": [
      "Setting `pad_token_id` to `eos_token_id`:50256 for open-end generation.\n",
      "c:\\Users\\daria\\anaconda3\\envs\\negation\\lib\\site-packages\\peft\\peft_model.py:1180: UserWarning: Position ids are not supported for parameter efficient tuning. Ignoring position ids.\n",
      "  warnings.warn(\"Position ids are not supported for parameter efficient tuning. Ignoring position ids.\")\n"
     ]
    },
    {
     "name": "stdout",
     "output_type": "stream",
     "text": [
      "['Her decision is rational. <|perturb|> [negation] Her decision is [BLANK]. [SEP] not [ANS', 'Her decision is rational. <|perturb|> [negation] Her decision is [BLANK]. [SEP] not without disasters', 'Her decision is rational. <|perturb|> [negation] Her decision is [BLANK]. [SEP] not without precedent']\n"
     ]
    }
   ],
   "source": [
    "#input_prompt = \"too much of it feels unfocused and underdeveloped . [negation] too much of it feels [BLANK] and underdeveloped\"\n",
    "input_prompt = \"Her decision is rational. <|perturb|> [negation] Her decision is [BLANK]\"\n",
    "\n",
    "# To perturb with more controls,\n",
    "#random_blanks = [\"His behavior is always [BLANK]\", \" His behavior is [BLANK]\"]\n",
    "\n",
    "#input_prompt = \"His behavior is always responsible. [negation] His behavior is [BLANK]\"\n",
    "\n",
    "#input_prompt = 'makes for a pretty pleasant viewing experience. <|perturb|> [negation] makes for a pretty [BLANK] viewing experience'\n",
    "sequence = trainer.inference (input_prompt)\n",
    "print(sequence)"
   ]
  },
  {
   "cell_type": "code",
   "execution_count": 18,
   "metadata": {},
   "outputs": [
    {
     "name": "stderr",
     "output_type": "stream",
     "text": [
      "c:\\Users\\daria\\anaconda3\\envs\\negation\\lib\\site-packages\\huggingface_hub\\file_download.py:1132: FutureWarning: `resume_download` is deprecated and will be removed in version 1.0.0. Downloads always resume when possible. If you want to force a new download, use `force_download=True`.\n",
      "  warnings.warn(\n",
      "Setting `pad_token_id` to `eos_token_id`:50256 for open-end generation.\n"
     ]
    },
    {
     "name": "stdout",
     "output_type": "stream",
     "text": [
      "['His behavior is always responsible. [negation] His behavior is [BLANK] responsible. [SEP] not [ANSWER] ', 'His behavior is always responsible. [negation] His behavior is [BLANK] responsible. [SEP] never [ANSWER] ', 'His behavior is always responsible. [negation] His behavior is [BLANK] responsible. [SEP] not always [ANSWER] ']\n"
     ]
    }
   ],
   "source": [
    "\n",
    "# This section is making inference with the original model\n",
    "\n",
    "def get_outputsx(model, inputs,do_sample=True,num_beams=None):\n",
    "\n",
    "    num_return_sequences = 3\n",
    "\n",
    "    outputs = model.generate(\n",
    "        input_ids=inputs[\"input_ids\"],\n",
    "        attention_mask=inputs[\"attention_mask\"],\n",
    "        max_length=1000,\n",
    "        #repetition_penalty=1.5, #Avoid repetition.\n",
    "        early_stopping=False, #if num_beams is None else True, #The model can stop before reach the max_length\n",
    "        temperature= 1,\n",
    "        num_beams=1 if num_beams is None else num_beams,\n",
    "        do_sample=num_beams is None and do_sample,\n",
    "        num_return_sequences=num_return_sequences,\n",
    "        #eos_token_id=tokenizer.eos_token_id\n",
    "    )\n",
    "    return outputs\n",
    "\n",
    "model_name = \"uw-hai/polyjuice\"\n",
    "foundational_model=AutoModelForCausalLM.from_pretrained(model_name)\n",
    "tokenizer=AutoTokenizer.from_pretrained(model_name)\n",
    "\n",
    "#text = \"The project is sustainable.\"\n",
    "#random_blanks = {'The project is [BLANK]', '[BLANK] project is sustainable'}\n",
    "\n",
    "#input_prompt = tokenizer(\"The man drank from the tap. <|perturb|> [negation] The man [BLANK] from the tap.\", return_tensors=\"pt\")\n",
    "input_prompt = tokenizer(\"His behavior is always responsible. <|perturb|> [negation] His behavior is [BLANK]\", return_tensors=\"pt\")\n",
    "#input_prompt = tokenizer(\"The project is sustainable. <|perturb|> [negation] The project is [BLANK].\", return_tensors=\"pt\")\n",
    "#input_prompt = tokenizer(\"Her decision is rational. <|perturb|> [negation] Her decision is [BLANK]\", return_tensors=\"pt\")\n",
    "foundational_outputs_prompt = get_outputsx(foundational_model, input_prompt, num_beams = 5)\n",
    "\n",
    "print(tokenizer.batch_decode(foundational_outputs_prompt, skip_special_tokens=True))"
   ]
  },
  {
   "cell_type": "code",
   "execution_count": 4,
   "metadata": {},
   "outputs": [
    {
     "name": "stderr",
     "output_type": "stream",
     "text": [
      "Setting `pad_token_id` to `eos_token_id`:50256 for open-end generation.\n"
     ]
    },
    {
     "name": "stdout",
     "output_type": "stream",
     "text": [
      "['Jim Lankes was given bottles of water, ice and rice <|perturb|> [negation] Jim Lankes was given [BLANK] of water, ice and rice', 'Jim Lankes was given bottles of water, ice and rice <|perturb|> [negation] Jim Lankes was given [BLANK] of water, ice and rice']\n"
     ]
    },
    {
     "name": "stderr",
     "output_type": "stream",
     "text": [
      "Setting `pad_token_id` to `eos_token_id`:50256 for open-end generation.\n",
      "INFO:polyjuice.polyjuice_wrapper:Setup SpaCy processor.\n"
     ]
    },
    {
     "name": "stdout",
     "output_type": "stream",
     "text": [
      "HERE\n",
      "[[{'generated_text': 'Jim Lankes was given bottles of water, ice and rice <|perturb|> [negation] Jim Lankes was given [BLANK] of water, ice and rice [SEP] the role of Joey Ellis, who would be introduced from his hometown as a friend [ANSWER] '}, {'generated_text': 'Jim Lankes was given bottles of water, ice and rice <|perturb|> [negation] Jim Lankes was given [BLANK] of water, ice and rice [SEP] the go-ahead [ANSWER] '}, {'generated_text': 'Jim Lankes was given bottles of water, ice and rice <|perturb|> [negation] Jim Lankes was given [BLANK] of water, ice and rice [SEP] the role of Joey Ellis, who would be introduced from his hometown as [ANSWER] '}], [{'generated_text': 'Jim Lankes was given bottles of water, ice and rice <|perturb|> [negation] Jim Lankes was given [BLANK] of water, ice and rice [SEP] the role of Joey Ellis, who would be introduced from his hometown as a friend [ANSWER] '}, {'generated_text': 'Jim Lankes was given bottles of water, ice and rice <|perturb|> [negation] Jim Lankes was given [BLANK] of water, ice and rice [SEP] the go-ahead [ANSWER] '}, {'generated_text': 'Jim Lankes was given bottles of water, ice and rice <|perturb|> [negation] Jim Lankes was given [BLANK] of water, ice and rice [SEP] the role of Joey Ellis, who would be introduced from his hometown as [ANSWER] '}]]\n",
      "[[('negation', 'Jim Lankes was given the role of Joey Ellis, who would be introduced from his hometown as a friend of water, ice and rice'), ('negation', 'Jim Lankes was given the go-ahead of water, ice and rice'), ('negation', 'Jim Lankes was given the role of Joey Ellis, who would be introduced from his hometown as of water, ice and rice')], [('negation', 'Jim Lankes was given the role of Joey Ellis, who would be introduced from his hometown as a friend of water, ice and rice'), ('negation', 'Jim Lankes was given the go-ahead of water, ice and rice'), ('negation', 'Jim Lankes was given the role of Joey Ellis, who would be introduced from his hometown as of water, ice and rice')]]\n"
     ]
    },
    {
     "name": "stderr",
     "output_type": "stream",
     "text": [
      "INFO:polyjuice.polyjuice_wrapper:Setup perplexity scorer.\n"
     ]
    },
    {
     "name": "stdout",
     "output_type": "stream",
     "text": [
      "[]\n"
     ]
    }
   ],
   "source": [
    "from incontext import PerturbationGenerator\n",
    "\n",
    "# Example usage\n",
    "text = \"Her decision is rational.\"\n",
    "random_blanks = ['Her decision is [BLANK]']*2#, '[BLANK] project is sustainable'}\n",
    "\n",
    "text = \"Jim Lankes was given bottles of water, ice and rice\"\n",
    "random_blanks = [\"Jim Lankes was given [BLANK] of water, ice and rice\"]*2\n",
    "\n",
    "generator = PerturbationGenerator()\n",
    "\n",
    "prompts = generator.get_prompts(text, random_blanks)\n",
    "print(prompts)\n",
    "\n",
    "generated_sequences = generator.generate_on_prompts(prompts, temperature=1, num_beams=5, do_sample=True, batch_size=128, num_return_sequences=3)\n",
    "\n",
    "print(generated_sequences)\n",
    "\n",
    "listado = generator.validate_and_sample_perturbations(generated_sequences, text, perplex_thred=10, num_perturbations=4)\n",
    "print(listado)"
   ]
  },
  {
   "cell_type": "code",
   "execution_count": null,
   "metadata": {},
   "outputs": [],
   "source": [
    "from polyjuice import Polyjuice\n",
    "pj = Polyjuice(model_path=\"uw-hai/polyjuice\", is_cuda=True)\n",
    "\n",
    "# Example usage\n",
    "text = \"Her decision can me more rational.\"\n",
    "random_blanks = ['Her decision is can be more [BLANK]','Her decision is can be [BLANK]']#, '[BLANK] project is sustainable'}\n",
    "\n",
    "#text = \"It is great for kids.\"\n",
    "#random_blanks =  [\"It is great for [BLANK]\"]*2\n",
    "\n",
    "#text = \"It is great for kids.\"\n",
    "#text = \"His behavior is always responsible.\"\n",
    "\n",
    "# To perturb with more controls,\n",
    "#random_blanks = [\"His behavior is always [BLANK]\", \" His behavior is [BLANK]\"]\n",
    "\n",
    "#text = \"The project is sustainable.\"\n",
    "#random_blanks = {'The project is [BLANK]', '[BLANK] project is sustainable'}\n",
    "\n",
    "perturbations = pj.perturb(\n",
    "    orig_sent=text,\n",
    "    blanked_sent= random_blanks,\n",
    "    ctrl_code=\"negation\",\n",
    "    # Customzie perplexity score. \n",
    "    perplex_thred=30,\n",
    "    # number of perturbations to return\n",
    "    num_perturbations=3,\n",
    "    # the function also takes in additional arguments for huggingface generators.\n",
    "    num_beams=5\n",
    ")\n",
    "perturbations"
   ]
  },
  {
   "cell_type": "markdown",
   "metadata": {},
   "source": [
    "## Dataset with Affixal"
   ]
  },
  {
   "cell_type": "code",
   "execution_count": 182,
   "metadata": {},
   "outputs": [
    {
     "data": {
      "text/html": [
       "<div>\n",
       "<style scoped>\n",
       "    .dataframe tbody tr th:only-of-type {\n",
       "        vertical-align: middle;\n",
       "    }\n",
       "\n",
       "    .dataframe tbody tr th {\n",
       "        vertical-align: top;\n",
       "    }\n",
       "\n",
       "    .dataframe thead th {\n",
       "        text-align: right;\n",
       "    }\n",
       "</style>\n",
       "<table border=\"1\" class=\"dataframe\">\n",
       "  <thead>\n",
       "    <tr style=\"text-align: right;\">\n",
       "      <th></th>\n",
       "      <th>index</th>\n",
       "      <th>dev_index</th>\n",
       "      <th>text</th>\n",
       "      <th>cues</th>\n",
       "      <th>judgment</th>\n",
       "      <th>is_important</th>\n",
       "      <th>negation_type</th>\n",
       "      <th>text_substituted</th>\n",
       "    </tr>\n",
       "  </thead>\n",
       "  <tbody>\n",
       "    <tr>\n",
       "      <th>0</th>\n",
       "      <td>6</td>\n",
       "      <td>151</td>\n",
       "      <td>a big , gorgeous , sprawling swashbuckler that...</td>\n",
       "      <td>uncomplicated [14]</td>\n",
       "      <td>1</td>\n",
       "      <td>No</td>\n",
       "      <td>AFFIX</td>\n",
       "      <td>a big , gorgeous , sprawling swashbuckler that...</td>\n",
       "    </tr>\n",
       "    <tr>\n",
       "      <th>1</th>\n",
       "      <td>12</td>\n",
       "      <td>319</td>\n",
       "      <td>too much of it feels unfocused and underdevelo...</td>\n",
       "      <td>unfocused [5]</td>\n",
       "      <td>0</td>\n",
       "      <td>Yes</td>\n",
       "      <td>AFFIX</td>\n",
       "      <td>too much of it feels focused and underdeveloped .</td>\n",
       "    </tr>\n",
       "    <tr>\n",
       "      <th>2</th>\n",
       "      <td>17</td>\n",
       "      <td>274</td>\n",
       "      <td>it 's hard to like a film about a guy who is u...</td>\n",
       "      <td>unlikeable [13]</td>\n",
       "      <td>0</td>\n",
       "      <td>Yes</td>\n",
       "      <td>AFFIX</td>\n",
       "      <td>it 's hard to like a film about a guy who is u...</td>\n",
       "    </tr>\n",
       "    <tr>\n",
       "      <th>3</th>\n",
       "      <td>24</td>\n",
       "      <td>858</td>\n",
       "      <td>the film 's welcome breeziness and some unbeli...</td>\n",
       "      <td>unbelievably [7]</td>\n",
       "      <td>1</td>\n",
       "      <td>No</td>\n",
       "      <td>AFFIX</td>\n",
       "      <td>the film 's welcome breeziness and some believ...</td>\n",
       "    </tr>\n",
       "    <tr>\n",
       "      <th>4</th>\n",
       "      <td>26</td>\n",
       "      <td>469</td>\n",
       "      <td>so unremittingly awful that labeling it a dog ...</td>\n",
       "      <td>unremittingly [1]</td>\n",
       "      <td>0</td>\n",
       "      <td>No</td>\n",
       "      <td>AFFIX</td>\n",
       "      <td>so remittingly awful that labeling it a dog pr...</td>\n",
       "    </tr>\n",
       "  </tbody>\n",
       "</table>\n",
       "</div>"
      ],
      "text/plain": [
       "   index  dev_index                                               text  \\\n",
       "0      6        151  a big , gorgeous , sprawling swashbuckler that...   \n",
       "1     12        319  too much of it feels unfocused and underdevelo...   \n",
       "2     17        274  it 's hard to like a film about a guy who is u...   \n",
       "3     24        858  the film 's welcome breeziness and some unbeli...   \n",
       "4     26        469  so unremittingly awful that labeling it a dog ...   \n",
       "\n",
       "                 cues  judgment is_important negation_type  \\\n",
       "0  uncomplicated [14]         1           No         AFFIX   \n",
       "1       unfocused [5]         0          Yes         AFFIX   \n",
       "2     unlikeable [13]         0          Yes         AFFIX   \n",
       "3    unbelievably [7]         1           No         AFFIX   \n",
       "4   unremittingly [1]         0           No         AFFIX   \n",
       "\n",
       "                                    text_substituted  \n",
       "0  a big , gorgeous , sprawling swashbuckler that...  \n",
       "1  too much of it feels focused and underdeveloped .  \n",
       "2  it 's hard to like a film about a guy who is u...  \n",
       "3  the film 's welcome breeziness and some believ...  \n",
       "4  so remittingly awful that labeling it a dog pr...  "
      ]
     },
     "execution_count": 182,
     "metadata": {},
     "output_type": "execute_result"
    }
   ],
   "source": [
    "import pandas as pd\n",
    "\n",
    "# Specify the path to the pickle file\n",
    "affixal_path = '../data/affixal/filtered_df.pkl'\n",
    "\n",
    "# Load the DataFrame from the pickle file\n",
    "filtered_df = pd.read_pickle(affixal_path)\n",
    "\n",
    "# Display the first few rows of the DataFrame\n",
    "filtered_df.head()"
   ]
  },
  {
   "cell_type": "code",
   "execution_count": 187,
   "metadata": {},
   "outputs": [
    {
     "name": "stdout",
     "output_type": "stream",
     "text": [
      "a big , gorgeous , sprawling swashbuckler that delivers its diversions in grand , uncomplicated fashion .\n",
      "a big , gorgeous , sprawling swashbuckler that delivers its diversions in grand , complicated fashion .\n"
     ]
    }
   ],
   "source": [
    "print(filtered_df.loc[0,'text'])\n",
    "print(filtered_df.loc[0,'text_substituted'])"
   ]
  }
 ],
 "metadata": {
  "kernelspec": {
   "display_name": "negation",
   "language": "python",
   "name": "python3"
  },
  "language_info": {
   "codemirror_mode": {
    "name": "ipython",
    "version": 3
   },
   "file_extension": ".py",
   "mimetype": "text/x-python",
   "name": "python",
   "nbconvert_exporter": "python",
   "pygments_lexer": "ipython3",
   "version": "3.9.19"
  }
 },
 "nbformat": 4,
 "nbformat_minor": 2
}
