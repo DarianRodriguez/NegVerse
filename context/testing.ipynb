{
 "cells": [
  {
   "cell_type": "markdown",
   "metadata": {},
   "source": [
    "# In context learning and Prompt engineering"
   ]
  },
  {
   "cell_type": "code",
   "execution_count": 2,
   "metadata": {},
   "outputs": [
    {
     "name": "stdout",
     "output_type": "stream",
     "text": [
      "Current Working Directory: c:\\Users\\daria\\OneDrive\\Escritorio\\UCL\\Dissertation\\Negations-LM\\context\n"
     ]
    },
    {
     "name": "stderr",
     "output_type": "stream",
     "text": [
      "c:\\Users\\daria\\anaconda3\\envs\\negation\\lib\\site-packages\\transformers\\utils\\generic.py:309: UserWarning: torch.utils._pytree._register_pytree_node is deprecated. Please use torch.utils._pytree.register_pytree_node instead.\n",
      "  _torch_pytree._register_pytree_node(\n",
      "c:\\Users\\daria\\anaconda3\\envs\\negation\\lib\\site-packages\\huggingface_hub\\file_download.py:1132: FutureWarning: `resume_download` is deprecated and will be removed in version 1.0.0. Downloads always resume when possible. If you want to force a new download, use `force_download=True`.\n",
      "  warnings.warn(\n",
      "Setting `pad_token_id` to `eos_token_id`:50256 for open-end generation.\n"
     ]
    },
    {
     "name": "stdout",
     "output_type": "stream",
     "text": [
      "['The argument is complicated. <|perturb|> [negation] The argument [BLANK] complicated.', 'The argument is complicated. <|perturb|> [negation] The argument is [BLANK].']\n"
     ]
    },
    {
     "name": "stderr",
     "output_type": "stream",
     "text": [
      "Setting `pad_token_id` to `eos_token_id`:50256 for open-end generation.\n",
      "INFO:polyjuice.polyjuice_wrapper:Setup SpaCy processor.\n",
      "INFO:polyjuice.polyjuice_wrapper:Setup perplexity scorer.\n"
     ]
    },
    {
     "name": "stdout",
     "output_type": "stream",
     "text": [
      "['The argument is not complicated.']\n"
     ]
    }
   ],
   "source": [
    "# NEW VERSION\n",
    "import torch\n",
    "from transformers import AutoTokenizer, AutoModelForCausalLM, pipeline\n",
    "import numpy as np\n",
    "import os\n",
    "\n",
    "#project_root = r'C:\\Users\\daria\\OneDrive\\Escritorio\\UCL\\Dissertation\\Negations-LM\\notebook'\n",
    "\n",
    "#C:\\Users\\daria\\OneDrive\\Escritorio\\UCL\\Dissertation\\Negations-LM\\context\\incontext.py\n",
    "#os.chdir(project_root)\n",
    "\n",
    "print(\"Current Working Directory:\", os.getcwd())\n",
    "from incontext import PerturbationGenerator\n",
    "\n",
    "# Example usage\n",
    "text = \"The project is sustainable.\"\n",
    "random_blanks = {'The project [BLANK] sustainable', '[BLANK] project is sustainable'}\n",
    "\n",
    "text = \"The argument is complicated.\"\n",
    "random_blanks = {'The argument [BLANK] complicated.', 'The argument is [BLANK].'}\n",
    "\n",
    "generator = PerturbationGenerator()\n",
    "\n",
    "prompts = generator.get_prompts(text, random_blanks)\n",
    "print(prompts)\n",
    "\n",
    "generated_sequences = generator.generate_on_prompts(prompts, temperature=1, num_beams=5, do_sample=True, batch_size=128, num_return_sequences=3)\n",
    "\n",
    "listado = generator.validate_and_sample_perturbations(generated_sequences, text, perplex_thred=10, num_perturbations=4)\n",
    "print(listado)"
   ]
  },
  {
   "cell_type": "code",
   "execution_count": 3,
   "metadata": {},
   "outputs": [
    {
     "name": "stderr",
     "output_type": "stream",
     "text": [
      "Setting `pad_token_id` to `eos_token_id`:50256 for open-end generation.\n",
      "Setting `pad_token_id` to `eos_token_id`:50256 for open-end generation.\n",
      "INFO:polyjuice.polyjuice_wrapper:Setup SpaCy processor.\n",
      "INFO:polyjuice.polyjuice_wrapper:Setup perplexity scorer.\n"
     ]
    },
    {
     "name": "stdout",
     "output_type": "stream",
     "text": [
      "['The project seems logical. sustainable.', 'The project is not sustainable.', 'The project is not sustainable..', \"The project isn't sustainable.\"]\n"
     ]
    }
   ],
   "source": [
    "#text = \"The project is sustainable.\"\n",
    "text = \"The argument is credible.\"\n",
    "random_blanks = {'The argument [BLANK] credible.', 'The argument is [BLANK].'}\n",
    "\n",
    "examples = [\n",
    "    \"It is great for kids. <|perturb|> [negation] It [BLANK] great for [BLANK]. [SEP] is not [ANSWER]\",\n",
    "    \"The weather is sunny. <|perturb|> [negation] The weather [BLANK] sunny. [SEP] is not [ANSWER]\",\n",
    "    \"He enjoys reading books. <|perturb|> [negation] He [BLANK] enjoys reading books. [SEP] does not [ANSWER]\",\n",
    "    #\"It is a sunny day. <|perturb|> [negation] It [BLANK] a sunny day. [SEP] is not [ANSWER]\"\n",
    "]\n",
    "\n",
    "examples_affixald = [\n",
    "\"It is possible. <|perturb|> [negation] It is [BLANK]. [SEP] impossible [ANSWER]\",\n",
    "\"He is satisfied. <|perturb|> [negation] He is [BLANK]. [SEP] dissatisfied [ANSWER]\",\n",
    "\"The statement is logical. <|perturb|> [negation] The statement is [BLANK]. [SEP] illogical [ANSWER]\",\n",
    "\"The instructions were straightforward and uncomplicated. <|perturb|> [negation] The instructions were straightforward and [BLANK]. [SEP] complicated [ANSWER]\"\n",
    "\"She is happy. <|perturb|> [negation] She is [BLANK]. [SEP] unhappy [ANSWER]\",\n",
    "]\n",
    "\n",
    "examplesd = [\n",
    "    \"I saw nothing at all. <|perturb|> [negation] I saw [BLANK]. [SEP] something [ANSWER]\"\n",
    "    \"I found his story wholly convincing. <|perturb|> [negation] I found his story wholly [BLANK] convincing. [SEP] not [ANSWER]\"\n",
    "    \"She rarely goes out these days. <|perturb|> [negation]\tShe [BLANK] goes out these days. [SEP] never [ANSWER]\"\n",
    "    \"Bricks are made of clay in some context. <|perturb|> [negation] Bricks are made of clay in [BLANK] context. [SEP] no [ANSWER] \"\n",
    "\n",
    "]\n",
    "\n",
    "examples = [\n",
    "    \"It is possible. <|perturb|> [negation] It is [BLANK]. [SEP] impossible [ANSWER]\",\n",
    "    \"It is possible. <|perturb|> [negation] It is [BLANK]. [SEP] not possible [ANSWER]\",\n",
    "    #\"He is satisfied. <|perturb|> [negation] He is [BLANK]. [SEP] dissatisfied [ANSWER]\",\n",
    "    \"The statement is logical. <|perturb|> [negation] The statement is [BLANK]. [SEP] illogical [ANSWER]\",\n",
    "    \"The statement is logical. <|perturb|> [negation] The statement is [BLANK]. [SEP] not logical [ANSWER]\"\n",
    "    #\"She is happy. <|perturb|> [negation] She is [BLANK]. [SEP] unhappy [ANSWER]\",\n",
    "    #\"The idea is common. <|perturb|> [negation] The idea is [BLANK]. [SEP] uncommon [ANSWER]\",\n",
    "    #\"This action is reversible. <|perturb|> [negation] This action is [BLANK]. [SEP] irreversible [ANSWER]\",\n",
    "    #\"The argument is credible. <|perturb|> [negation] The argument is [BLANK]. [SEP] incredible [ANSWER]\",\n",
    "    #\"His behavior is responsible. <|perturb|> [negation] His behavior is [BLANK]. [SEP] irresponsible [ANSWER]\",\n",
    "    #\"The phenomenon is regular. <|perturb|> [negation] The phenomenon is [BLANK]. [SEP] irregular [ANSWER]\",\n",
    "    #\"Her decision is rational. <|perturb|> [negation] Her decision is [BLANK]. [SEP] irrational [ANSWER]\"\n",
    "]\n",
    "\n",
    "text = \"The project is sustainable.\"\n",
    "random_blanks = {'The project [BLANK] sustainable.', 'The project is [BLANK].'}\n",
    "\n",
    "\n",
    "generator = PerturbationGenerator() \n",
    "\n",
    "prompt_list = generator.get_prompt_context(text,random_blanks,examples)\n",
    "\n",
    "generated_sequences = generator.generate_on_prompts(prompt_list, temperature=1, num_beams=5, do_sample=True, batch_size=128, num_return_sequences=3)\n",
    "\n",
    "valid_list = generator.validate_and_sample_perturbations(generated_sequences, text, perplex_thred=100, num_perturbations=4)\n",
    "print(valid_list)\n"
   ]
  },
  {
   "cell_type": "code",
   "execution_count": 94,
   "metadata": {},
   "outputs": [
    {
     "data": {
      "text/plain": [
       "[[('negation', 'The project is not sustainable or.'),\n",
       "  ('negation', 'The project is not sustainable.'),\n",
       "  ('negation', 'The project is not sustainable..')],\n",
       " [('negation', \"The project isn't sustainable.\"),\n",
       "  ('negation', 'The project seems logical. sustainable.'),\n",
       "  ('negation', 'The project is not sustainable.')]]"
      ]
     },
     "execution_count": 94,
     "metadata": {},
     "output_type": "execute_result"
    }
   ],
   "source": [
    "generated_sequences"
   ]
  }
 ],
 "metadata": {
  "kernelspec": {
   "display_name": "negation",
   "language": "python",
   "name": "python3"
  },
  "language_info": {
   "codemirror_mode": {
    "name": "ipython",
    "version": 3
   },
   "file_extension": ".py",
   "mimetype": "text/x-python",
   "name": "python",
   "nbconvert_exporter": "python",
   "pygments_lexer": "ipython3",
   "version": "3.9.19"
  }
 },
 "nbformat": 4,
 "nbformat_minor": 2
}
