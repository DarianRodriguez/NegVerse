{
 "cells": [
  {
   "cell_type": "markdown",
   "metadata": {},
   "source": [
    "# In context learning and Prompt engineering"
   ]
  },
  {
   "cell_type": "code",
   "execution_count": 91,
   "metadata": {},
   "outputs": [
    {
     "name": "stdout",
     "output_type": "stream",
     "text": [
      "Current Working Directory: c:\\Users\\daria\\OneDrive\\Escritorio\\UCL\\Dissertation\\Negations-LM\\context\n"
     ]
    },
    {
     "name": "stderr",
     "output_type": "stream",
     "text": [
      "Setting `pad_token_id` to `eos_token_id`:50256 for open-end generation.\n"
     ]
    },
    {
     "name": "stdout",
     "output_type": "stream",
     "text": [
      "['The man drank from the tap. <|perturb|> [negation] The man [BLANK] drank from the tap.', 'The man drank from the tap. <|perturb|> [negation] The man [BLANK] from the tap.']\n"
     ]
    },
    {
     "name": "stderr",
     "output_type": "stream",
     "text": [
      "Setting `pad_token_id` to `eos_token_id`:50256 for open-end generation.\n",
      "INFO:polyjuice.polyjuice_wrapper:Setup SpaCy processor.\n"
     ]
    },
    {
     "name": "stdout",
     "output_type": "stream",
     "text": [
      "HERE\n",
      "[[{'generated_text': \"The man drank from the tap. <|perturb|> [negation] The man [BLANK] drank from the tap. [SEP] didn't [ANSWER] \"}, {'generated_text': 'The man drank from the tap. <|perturb|> [negation] The man [BLANK] drank from the tap. [SEP] never [ANSWER] '}, {'generated_text': 'The man drank from the tap. <|perturb|> [negation] The man [BLANK] drank from the tap. [SEP] did not [ANSWER] '}], [{'generated_text': \"The man drank from the tap. <|perturb|> [negation] The man [BLANK] from the tap. [SEP] didn't drink [ANSWER] \"}, {'generated_text': 'The man drank from the tap. <|perturb|> [negation] The man [BLANK] from the tap. [SEP] did not drink [ANSWER] '}, {'generated_text': 'The man drank from the tap. <|perturb|> [negation] The man [BLANK] from the tap. [SEP] drank no more [ANSWER] '}]]\n"
     ]
    },
    {
     "name": "stderr",
     "output_type": "stream",
     "text": [
      "INFO:polyjuice.polyjuice_wrapper:Setup perplexity scorer.\n"
     ]
    },
    {
     "name": "stdout",
     "output_type": "stream",
     "text": [
      "['The man never drank from the tap.', 'The man did not drink from the tap.', \"The man didn't drink from the tap.\", 'The man drank no more from the tap.']\n"
     ]
    }
   ],
   "source": [
    "# NEW VERSION\n",
    "import torch\n",
    "from transformers import AutoTokenizer, AutoModelForCausalLM, pipeline\n",
    "import numpy as np\n",
    "import os\n",
    "\n",
    "#project_root = r'C:\\Users\\daria\\OneDrive\\Escritorio\\UCL\\Dissertation\\Negations-LM\\notebook'\n",
    "\n",
    "#C:\\Users\\daria\\OneDrive\\Escritorio\\UCL\\Dissertation\\Negations-LM\\context\\incontext.py\n",
    "#os.chdir(project_root)\n",
    "\n",
    "print(\"Current Working Directory:\", os.getcwd())\n",
    "from incontext import PerturbationGenerator\n",
    "\n",
    "# Example usage\n",
    "text = \"The project is sustainable.\"\n",
    "random_blanks = {'The project [BLANK] sustainable', '[BLANK] project is sustainable'}\n",
    "\n",
    "text = \"The argument is complicated.\"\n",
    "random_blanks = {'The argument [BLANK] complicated.', 'The argument is [BLANK].'}\n",
    "\n",
    "text = \"The man drank from the tap.\"\n",
    "random_blanks = {'The man [BLANK] from the tap.', 'The man [BLANK] drank from the tap.'}\n",
    "\n",
    "generator = PerturbationGenerator()\n",
    "\n",
    "prompts = generator.get_prompts(text, random_blanks)\n",
    "print(prompts)\n",
    "\n",
    "generated_sequences = generator.generate_on_prompts(prompts, temperature=1, num_beams=5, do_sample=True, batch_size=128, num_return_sequences=3)\n",
    "\n",
    "listado = generator.validate_and_sample_perturbations(generated_sequences, text, perplex_thred=10, num_perturbations=4)\n",
    "print(listado)"
   ]
  },
  {
   "cell_type": "code",
   "execution_count": 92,
   "metadata": {},
   "outputs": [
    {
     "data": {
      "text/plain": [
       "[[('negation', \"The man didn't drank from the tap.\"),\n",
       "  ('negation', 'The man did not drank from the tap.'),\n",
       "  ('negation', 'The man never drank from the tap.')],\n",
       " [('negation', 'The man drank no more from the tap.'),\n",
       "  ('negation', \"The man didn't drink from the tap.\"),\n",
       "  ('negation', 'The man did not drink from the tap.')]]"
      ]
     },
     "execution_count": 92,
     "metadata": {},
     "output_type": "execute_result"
    }
   ],
   "source": [
    "generated_sequences"
   ]
  },
  {
   "cell_type": "code",
   "execution_count": 90,
   "metadata": {},
   "outputs": [
    {
     "name": "stderr",
     "output_type": "stream",
     "text": [
      "Setting `pad_token_id` to `eos_token_id`:50256 for open-end generation.\n"
     ]
    },
    {
     "name": "stdout",
     "output_type": "stream",
     "text": [
      "['It is possible. <|perturb|> [negation] It is [BLANK]. [SEP] impossible [ANSWER]\\nHe is satisfied. <|perturb|> [negation] He is [BLANK]. [SEP] dissatisfied [ANSWER]\\nThe statement is logical. <|perturb|> [negation] The statement is [BLANK]. [SEP] illogical [ANSWER]\\nShe is happy. <|perturb|> [negation] She is [BLANK]. [SEP] unhappy [ANSWER]\\nThe idea is common. <|perturb|> [negation] The idea is [BLANK]. [SEP] uncommon [ANSWER]\\nHis behavior is always responsible. <|perturb|> [negation] His behavior is always [BLANK].', 'It is possible. <|perturb|> [negation] It is [BLANK]. [SEP] impossible [ANSWER]\\nHe is satisfied. <|perturb|> [negation] He is [BLANK]. [SEP] dissatisfied [ANSWER]\\nThe statement is logical. <|perturb|> [negation] The statement is [BLANK]. [SEP] illogical [ANSWER]\\nShe is happy. <|perturb|> [negation] She is [BLANK]. [SEP] unhappy [ANSWER]\\nThe idea is common. <|perturb|> [negation] The idea is [BLANK]. [SEP] uncommon [ANSWER]\\nHis behavior is always responsible. <|perturb|> [negation] His behavior is [BLANK] responsible.']\n"
     ]
    },
    {
     "name": "stderr",
     "output_type": "stream",
     "text": [
      "Setting `pad_token_id` to `eos_token_id`:50256 for open-end generation.\n",
      "INFO:polyjuice.polyjuice_wrapper:Setup SpaCy processor.\n"
     ]
    },
    {
     "name": "stdout",
     "output_type": "stream",
     "text": [
      "HERE\n",
      "[[{'generated_text': 'It is possible. <|perturb|> [negation] It is [BLANK]. [SEP] impossible [ANSWER]\\nHe is satisfied. <|perturb|> [negation] He is [BLANK]. [SEP] dissatisfied [ANSWER]\\nThe statement is logical. <|perturb|> [negation] The statement is [BLANK]. [SEP] illogical [ANSWER]\\nShe is happy. <|perturb|> [negation] She is [BLANK]. [SEP] unhappy [ANSWER]\\nThe idea is common. <|perturb|> [negation] The idea is [BLANK]. [SEP] uncommon [ANSWER]\\nHis behavior is always responsible. <|perturb|> [negation] His behavior is always [BLANK]. [ANSWER] '}, {'generated_text': 'It is possible. <|perturb|> [negation] It is [BLANK]. [SEP] impossible [ANSWER]\\nHe is satisfied. <|perturb|> [negation] He is [BLANK]. [SEP] dissatisfied [ANSWER]\\nThe statement is logical. <|perturb|> [negation] The statement is [BLANK]. [SEP] illogical [ANSWER]\\nShe is happy. <|perturb|> [negation] She is [BLANK]. [SEP] unhappy [ANSWER]\\nThe idea is common. <|perturb|> [negation] The idea is [BLANK]. [SEP] uncommon [ANSWER]\\nHis behavior is always responsible. <|perturb|> [negation] His behavior is always [BLANK]. [SEP] not responsible. [ANSWER] '}, {'generated_text': 'It is possible. <|perturb|> [negation] It is [BLANK]. [SEP] impossible [ANSWER]\\nHe is satisfied. <|perturb|> [negation] He is [BLANK]. [SEP] dissatisfied [ANSWER]\\nThe statement is logical. <|perturb|> [negation] The statement is [BLANK]. [SEP] illogical [ANSWER]\\nShe is happy. <|perturb|> [negation] She is [BLANK]. [SEP] unhappy [ANSWER]\\nThe idea is common. <|perturb|> [negation] The idea is [BLANK]. [SEP] uncommon [ANSWER]\\nHis behavior is always responsible. <|perturb|> [negation] His behavior is always [BLANK]. [SEP] not [ANSWER] '}], [{'generated_text': 'It is possible. <|perturb|> [negation] It is [BLANK]. [SEP] impossible [ANSWER]\\nHe is satisfied. <|perturb|> [negation] He is [BLANK]. [SEP] dissatisfied [ANSWER]\\nThe statement is logical. <|perturb|> [negation] The statement is [BLANK]. [SEP] illogical [ANSWER]\\nShe is happy. <|perturb|> [negation] She is [BLANK]. [SEP] unhappy [ANSWER]\\nThe idea is common. <|perturb|> [negation] The idea is [BLANK]. [SEP] uncommon [ANSWER]\\nHis behavior is always responsible. <|perturb|> [negation] His behavior is [BLANK] responsible. [ANSWER] '}, {'generated_text': 'It is possible. <|perturb|> [negation] It is [BLANK]. [SEP] impossible [ANSWER]\\nHe is satisfied. <|perturb|> [negation] He is [BLANK]. [SEP] dissatisfied [ANSWER]\\nThe statement is logical. <|perturb|> [negation] The statement is [BLANK]. [SEP] illogical [ANSWER]\\nShe is happy. <|perturb|> [negation] She is [BLANK]. [SEP] unhappy [ANSWER]\\nThe idea is common. <|perturb|> [negation] The idea is [BLANK]. [SEP] uncommon [ANSWER]\\nHis behavior is always responsible. <|perturb|> [negation] His behavior is [BLANK] responsible. ) [ANSWER] '}, {'generated_text': 'It is possible. <|perturb|> [negation] It is [BLANK]. [SEP] impossible [ANSWER]\\nHe is satisfied. <|perturb|> [negation] He is [BLANK]. [SEP] dissatisfied [ANSWER]\\nThe statement is logical. <|perturb|> [negation] The statement is [BLANK]. [SEP] illogical [ANSWER]\\nShe is happy. <|perturb|> [negation] She is [BLANK]. [SEP] unhappy [ANSWER]\\nThe idea is common. <|perturb|> [negation] The idea is [BLANK]. [SEP] uncommon [ANSWER]\\nHis behavior is always responsible. <|perturb|> [negation] His behavior is [BLANK] responsible. \" [ANSWER] '}]]\n"
     ]
    },
    {
     "name": "stderr",
     "output_type": "stream",
     "text": [
      "INFO:polyjuice.polyjuice_wrapper:Setup perplexity scorer.\n"
     ]
    },
    {
     "name": "stdout",
     "output_type": "stream",
     "text": [
      "['His behavior is always not responsible..', 'His behavior is always not.']\n"
     ]
    }
   ],
   "source": [
    "#text = \"The project is sustainable.\"\n",
    "text = \"The argument is credible.\"\n",
    "random_blanks = {'The argument [BLANK] credible.', 'The argument is [BLANK].'}\n",
    "\n",
    "examples = [\n",
    "    \"It is great for kids. <|perturb|> [negation] It [BLANK] great for [BLANK]. [SEP] is not [ANSWER]\",\n",
    "    \"The weather is sunny. <|perturb|> [negation] The weather [BLANK] sunny. [SEP] is not [ANSWER]\",\n",
    "    \"He enjoys reading books. <|perturb|> [negation] He [BLANK] enjoys reading books. [SEP] does not [ANSWER]\",\n",
    "    #\"It is a sunny day. <|perturb|> [negation] It [BLANK] a sunny day. [SEP] is not [ANSWER]\"\n",
    "]\n",
    "\n",
    "examples_affixal = [\n",
    "\"It is possible. <|perturb|> [negation] It is [BLANK]. [SEP] impossible [ANSWER]\",\n",
    "\"He is satisfied. <|perturb|> [negation] He is [BLANK]. [SEP] dissatisfied [ANSWER]\",\n",
    "\"The statement is logical. <|perturb|> [negation] The statement is [BLANK]. [SEP] illogical [ANSWER]\",\n",
    "#\"The instructions were straightforward and uncomplicated. <|perturb|> [negation] The instructions were straightforward and [BLANK]. [SEP] complicated [ANSWER]\"\n",
    "\"She is happy. <|perturb|> [negation] She is [BLANK]. [SEP] unhappy [ANSWER]\",\n",
    "\"The idea is common. <|perturb|> [negation] The idea is [BLANK]. [SEP] uncommon [ANSWER]\"\n",
    "]\n",
    "\n",
    "examplesd = [\n",
    "    \"I saw nothing at all. <|perturb|> [negation] I saw [BLANK]. [SEP] something [ANSWER]\"\n",
    "    \"I found his story wholly convincing. <|perturb|> [negation] I found his story wholly [BLANK] convincing. [SEP] not [ANSWER]\"\n",
    "    \"She rarely goes out these days. <|perturb|> [negation]\tShe [BLANK] goes out these days. [SEP] never [ANSWER]\"\n",
    "    \"Bricks are made of clay in some context. <|perturb|> [negation] Bricks are made of clay in [BLANK] context. [SEP] no [ANSWER] \"\n",
    "\n",
    "]\n",
    "\n",
    "examples = [\n",
    "    \"It is possible. <|perturb|> [negation] It is [BLANK]. [SEP] impossible [ANSWER]\",\n",
    "    \"It is possible. <|perturb|> [negation] It is [BLANK]. [SEP] not possible [ANSWER]\",\n",
    "    #\"He is satisfied. <|perturb|> [negation] He is [BLANK]. [SEP] dissatisfied [ANSWER]\",\n",
    "    \"The statement is logical. <|perturb|> [negation] The statement is [BLANK]. [SEP] illogical [ANSWER]\",\n",
    "    \"The statement is logical. <|perturb|> [negation] The statement is [BLANK]. [SEP] not logical [ANSWER]\"\n",
    "    \"She is happy. <|perturb|> [negation] She is [BLANK]. [SEP] unhappy [ANSWER]\",\n",
    "    \"The idea is common. <|perturb|> [negation] The idea is [BLANK]. [SEP] uncommon [ANSWER]\",\n",
    "    #\"This action is reversible. <|perturb|> [negation] This action is [BLANK]. [SEP] irreversible [ANSWER]\",\n",
    "    #\"The argument is credible. <|perturb|> [negation] The argument is [BLANK]. [SEP] incredible [ANSWER]\",\n",
    "    #\"His behavior is responsible. <|perturb|> [negation] His behavior is [BLANK]. [SEP] irresponsible [ANSWER]\",\n",
    "    #\"The phenomenon is regular. <|perturb|> [negation] The phenomenon is [BLANK]. [SEP] irregular [ANSWER]\",\n",
    "    #\"Her decision is rational. <|perturb|> [negation] Her decision is [BLANK]. [SEP] irrational [ANSWER]\"\n",
    "]\n",
    "\n",
    "text = \"His behavior is always responsible.\"\n",
    "random_blanks = {'His behavior is [BLANK] responsible.', 'His behavior is always [BLANK].'}\n",
    "\n",
    "\n",
    "generator = PerturbationGenerator() \n",
    "\n",
    "prompt_list = generator.get_prompt_context(text,random_blanks,examples_affixal) # join the context and the inference example\n",
    "print(prompt_list)\n",
    "\n",
    "generated_sequences = generator.generate_on_prompts(prompt_list, temperature=1, num_beams=5, do_sample=True, batch_size=128, num_return_sequences=3)\n",
    "\n",
    "valid_list = generator.validate_and_sample_perturbations(generated_sequences, text, perplex_thred=100, num_perturbations=4)\n",
    "print(valid_list)\n"
   ]
  },
  {
   "cell_type": "code",
   "execution_count": null,
   "metadata": {},
   "outputs": [],
   "source": [
    "prompts = generator.get_prompts(text, random_blanks)\n",
    "print(prompts)\n",
    "\n",
    "generated_sequences = generator.generate_on_prompts(prompts, temperature=1, num_beams=5, do_sample=True, batch_size=128, num_return_sequences=3)\n",
    "\n",
    "listado = generator.validate_and_sample_perturbations(generated_sequences, text, perplex_thred=10, num_perturbations=4)\n",
    "print(listado)"
   ]
  },
  {
   "cell_type": "code",
   "execution_count": null,
   "metadata": {},
   "outputs": [],
   "source": [
    "generated_sequences"
   ]
  },
  {
   "cell_type": "markdown",
   "metadata": {},
   "source": [
    "# Soft prompting with Hugging Face"
   ]
  },
  {
   "cell_type": "markdown",
   "metadata": {},
   "source": [
    "### Data preprocessing"
   ]
  },
  {
   "cell_type": "code",
   "execution_count": 2,
   "metadata": {},
   "outputs": [
    {
     "name": "stderr",
     "output_type": "stream",
     "text": [
      "c:\\Users\\daria\\anaconda3\\envs\\negation\\lib\\site-packages\\huggingface_hub\\file_download.py:1132: FutureWarning: `resume_download` is deprecated and will be removed in version 1.0.0. Downloads always resume when possible. If you want to force a new download, use `force_download=True`.\n",
      "  warnings.warn(\n",
      "Map: 100%|██████████| 59/59 [00:00<00:00, 3258.93 examples/s]\n"
     ]
    }
   ],
   "source": [
    "import torch\n",
    "from transformers import AutoTokenizer, AutoModelForCausalLM\n",
    "import pandas as pd\n",
    "from datasets import Dataset\n",
    "\n",
    "class TextGenerationSetup:\n",
    "\n",
    "    \"\"\"\n",
    "    Class used to setup the prompts format for training\n",
    "    \"\"\"\n",
    "    \n",
    "    PERETURB_TOK = \"<|perturb|>\"\n",
    "    BLANK_TOK = \"[BLANK]\"\n",
    "    SEP_TOK = \"[SEP]\"\n",
    "    ANSWER_TOK = \"[ANSWER]\"\n",
    "\n",
    "    def __init__(self, model_path):\n",
    "        self.device = torch.device(\"cuda\" if torch.cuda.is_available() else \"cpu\")\n",
    "        self.tokenizer = AutoTokenizer.from_pretrained(model_path)\n",
    "        self.tokenizer.pad_token = self.tokenizer.eos_token\n",
    "        self.model = AutoModelForCausalLM.from_pretrained(model_path).to(self.device)\n",
    "\n",
    "\n",
    "    def get_prompts(self,doc, blanked_sents, is_complete_blank=True):\n",
    "        prompts = []\n",
    "        for bt in blanked_sents:\n",
    "            tag = 'negation'\n",
    "            sep_tok = TextGenerationSetup.SEP_TOK if bt and is_complete_blank else \"\"\n",
    "            new_prompt = f\"{doc.strip()} {TextGenerationSetup.PERETURB_TOK} [{tag}] {bt.strip()}\".strip()\n",
    "            prompts.append(new_prompt)\n",
    "            #prompts.append(new_prompt.rstrip('.').strip())\n",
    "        return prompts\n",
    "\n",
    "    def get_answer(self,answer):\n",
    "        prompts = []\n",
    "        prompts.append(f\"{TextGenerationSetup.SEP_TOK} {answer.strip()} {TextGenerationSetup.ANSWER_TOK}\")\n",
    "        #prompts.append(answer.strip())\n",
    "        return prompts\n",
    "\n",
    "    def tokenize_function(self, examples):\n",
    "\n",
    "        input_encodings = self.tokenizer(examples['input_text'], truncation=True, padding=\"max_length\", max_length=50)\n",
    "        target_encodings = self.tokenizer(examples['target_text'], truncation=True, padding=\"max_length\", max_length=50)\n",
    "        labels = target_encodings['input_ids']\n",
    "        input_encodings[\"labels\"] = labels\n",
    "\n",
    "        return input_encodings\n",
    "    \n",
    "def process_dataframe(affixal_path, text_format ):\n",
    "\n",
    "    \"\"\"\n",
    "    Processes a DataFrame containing text data to generate a dataset suitable for text generation tasks.\n",
    "\n",
    "    This function reads a DataFrame from a pickle file, processes each row to replace specific cues with \n",
    "    a blank token, generates prompts and answers in the required format, and converts the processed data \n",
    "    into a format suitable for training a Hugging Face model.\n",
    "\n",
    "    Args:\n",
    "        affixal_path (str): Path to the pickle file containing the DataFrame with text data.\n",
    "        text_format (TextGenerationSetup): An instance of the TextGenerationSetup class used for formatting prompts and answers.\n",
    "\n",
    "    Returns:\n",
    "        Dataset: A Hugging Face Dataset object containing the processed input and target texts.\n",
    "    \"\"\"\n",
    "\n",
    "    train_data = []\n",
    "\n",
    "    # Load the DataFrame from the pickle file\n",
    "    filtered_df = pd.read_pickle(affixal_path)\n",
    "\n",
    "    for _, row in filtered_df.iterrows():\n",
    "        text = row['text']\n",
    "        text_pos = row['text_substituted']\n",
    "        cue = row['cues'].split()[0]  # Assuming 'cues' column contains space-separated cues\n",
    "        \n",
    "        # Replace the cue in the text with '[BLANK]'\n",
    "        text_with_blank = text.replace(cue, '[BLANK]')\n",
    "        \n",
    "        # Generate the prompt and answer\n",
    "        prompt_examples = text_format.get_prompts(text_pos, [text_with_blank]) # format the input prompts\n",
    "        answer_formatted = text_format.get_answer(cue) # format the answer\n",
    "        \n",
    "        # Combine the prompt and answer in the required format\n",
    "        example = (prompt_examples[0], answer_formatted[0])\n",
    "        train_data.append(example)\n",
    "\n",
    "    # Convert to a suitable format for Hugging Face Dataset\n",
    "    train_dataset= pd.DataFrame(train_data, columns=[\"input_text\", \"target_text\"])\n",
    "    train_dataset = Dataset.from_pandas(train_dataset)\n",
    "    \n",
    "    return train_dataset\n",
    "\n",
    "# Setup the model\n",
    "model_path = \"uw-hai/polyjuice\"  \n",
    "text_gen = TextGenerationSetup(model_path)\n",
    "\n",
    "# Load affixal negations dataset in the right format for training\n",
    "affixal_df = '../data/affixal/filtered_df.pkl' # Specify the path to the pickle file\n",
    "train_dataset = process_dataframe(affixal_df,text_gen)\n",
    "tokenized_datasets = train_dataset.map(text_gen.tokenize_function, batched=True, remove_columns=[\"input_text\", \"target_text\"])\n"
   ]
  },
  {
   "cell_type": "code",
   "execution_count": 3,
   "metadata": {},
   "outputs": [
    {
     "data": {
      "text/plain": [
       "{'input_text': 'makes for a pretty pleasant viewing experience . <|perturb|> [negation] makes for a pretty [BLANK] viewing experience .',\n",
       " 'target_text': '[SEP] unpleasant [ANSWER]'}"
      ]
     },
     "execution_count": 3,
     "metadata": {},
     "output_type": "execute_result"
    }
   ],
   "source": [
    "train_dataset[8]"
   ]
  },
  {
   "cell_type": "markdown",
   "metadata": {},
   "source": [
    "### TRAINING"
   ]
  },
  {
   "cell_type": "code",
   "execution_count": 19,
   "metadata": {},
   "outputs": [
    {
     "name": "stdout",
     "output_type": "stream",
     "text": [
      "trainable params: 7,680 || all params: 124,447,488 || trainable%: 0.006171277639609728\n",
      "None\n"
     ]
    },
    {
     "name": "stderr",
     "output_type": "stream",
     "text": [
      " 61%|██████    | 63/104 [04:48<03:07,  4.57s/it]\n",
      " 17%|█▋        | 4/24 [00:06<00:33,  1.67s/it]"
     ]
    },
    {
     "ename": "KeyboardInterrupt",
     "evalue": "",
     "output_type": "error",
     "traceback": [
      "\u001b[1;31m---------------------------------------------------------------------------\u001b[0m",
      "\u001b[1;31mKeyboardInterrupt\u001b[0m                         Traceback (most recent call last)",
      "Cell \u001b[1;32mIn[19], line 158\u001b[0m\n\u001b[0;32m    155\u001b[0m trainer \u001b[38;5;241m=\u001b[39m ModelTrainer(model\u001b[38;5;241m=\u001b[39mfoundational_model, tokenizer\u001b[38;5;241m=\u001b[39mtokenizer)\n\u001b[0;32m    157\u001b[0m \u001b[38;5;66;03m# Train the model\u001b[39;00m\n\u001b[1;32m--> 158\u001b[0m trainer_module \u001b[38;5;241m=\u001b[39m \u001b[43mtrainer\u001b[49m\u001b[38;5;241;43m.\u001b[39;49m\u001b[43mtrain_model\u001b[49m\u001b[43m(\u001b[49m\u001b[43mtokenizer\u001b[49m\u001b[43m,\u001b[49m\u001b[43m \u001b[49m\u001b[43mtokenized_datasets\u001b[49m\u001b[43m,\u001b[49m\u001b[43mnum_virtual_tokens\u001b[49m\u001b[38;5;241;43m=\u001b[39;49m\u001b[38;5;241;43m10\u001b[39;49m\u001b[43m,\u001b[49m\u001b[43m \u001b[49m\u001b[43mnum_epochs\u001b[49m\u001b[38;5;241;43m=\u001b[39;49m\u001b[38;5;241;43m3\u001b[39;49m\u001b[43m)\u001b[49m \u001b[38;5;66;03m#13\u001b[39;00m\n",
      "Cell \u001b[1;32mIn[19], line 90\u001b[0m, in \u001b[0;36mModelTrainer.train_model\u001b[1;34m(self, tokenizer, tokenized_datasets, num_virtual_tokens, num_epochs, learning_rate)\u001b[0m\n\u001b[0;32m     87\u001b[0m training_args \u001b[38;5;241m=\u001b[39m \u001b[38;5;28mself\u001b[39m\u001b[38;5;241m.\u001b[39mcreate_training_arguments(\u001b[38;5;28mself\u001b[39m\u001b[38;5;241m.\u001b[39moutput_directory, learning_rate, num_epochs)\n\u001b[0;32m     89\u001b[0m trainer_prompt \u001b[38;5;241m=\u001b[39m \u001b[38;5;28mself\u001b[39m\u001b[38;5;241m.\u001b[39mcreate_trainer(peft_model, training_args, tokenized_datasets)\n\u001b[1;32m---> 90\u001b[0m \u001b[43mtrainer_prompt\u001b[49m\u001b[38;5;241;43m.\u001b[39;49m\u001b[43mtrain\u001b[49m\u001b[43m(\u001b[49m\u001b[43m)\u001b[49m\n\u001b[0;32m     92\u001b[0m \u001b[38;5;66;03m# Save the trained model\u001b[39;00m\n\u001b[0;32m     93\u001b[0m trainer_prompt\u001b[38;5;241m.\u001b[39mmodel\u001b[38;5;241m.\u001b[39msave_pretrained(\u001b[38;5;28mself\u001b[39m\u001b[38;5;241m.\u001b[39moutput_directory)\n",
      "File \u001b[1;32mc:\\Users\\daria\\anaconda3\\envs\\negation\\lib\\site-packages\\transformers\\trainer.py:1537\u001b[0m, in \u001b[0;36mTrainer.train\u001b[1;34m(self, resume_from_checkpoint, trial, ignore_keys_for_eval, **kwargs)\u001b[0m\n\u001b[0;32m   1535\u001b[0m         hf_hub_utils\u001b[38;5;241m.\u001b[39menable_progress_bars()\n\u001b[0;32m   1536\u001b[0m \u001b[38;5;28;01melse\u001b[39;00m:\n\u001b[1;32m-> 1537\u001b[0m     \u001b[38;5;28;01mreturn\u001b[39;00m \u001b[43minner_training_loop\u001b[49m\u001b[43m(\u001b[49m\n\u001b[0;32m   1538\u001b[0m \u001b[43m        \u001b[49m\u001b[43margs\u001b[49m\u001b[38;5;241;43m=\u001b[39;49m\u001b[43margs\u001b[49m\u001b[43m,\u001b[49m\n\u001b[0;32m   1539\u001b[0m \u001b[43m        \u001b[49m\u001b[43mresume_from_checkpoint\u001b[49m\u001b[38;5;241;43m=\u001b[39;49m\u001b[43mresume_from_checkpoint\u001b[49m\u001b[43m,\u001b[49m\n\u001b[0;32m   1540\u001b[0m \u001b[43m        \u001b[49m\u001b[43mtrial\u001b[49m\u001b[38;5;241;43m=\u001b[39;49m\u001b[43mtrial\u001b[49m\u001b[43m,\u001b[49m\n\u001b[0;32m   1541\u001b[0m \u001b[43m        \u001b[49m\u001b[43mignore_keys_for_eval\u001b[49m\u001b[38;5;241;43m=\u001b[39;49m\u001b[43mignore_keys_for_eval\u001b[49m\u001b[43m,\u001b[49m\n\u001b[0;32m   1542\u001b[0m \u001b[43m    \u001b[49m\u001b[43m)\u001b[49m\n",
      "File \u001b[1;32mc:\\Users\\daria\\anaconda3\\envs\\negation\\lib\\site-packages\\transformers\\trainer.py:1854\u001b[0m, in \u001b[0;36mTrainer._inner_training_loop\u001b[1;34m(self, batch_size, args, resume_from_checkpoint, trial, ignore_keys_for_eval)\u001b[0m\n\u001b[0;32m   1851\u001b[0m     \u001b[38;5;28mself\u001b[39m\u001b[38;5;241m.\u001b[39mcontrol \u001b[38;5;241m=\u001b[39m \u001b[38;5;28mself\u001b[39m\u001b[38;5;241m.\u001b[39mcallback_handler\u001b[38;5;241m.\u001b[39mon_step_begin(args, \u001b[38;5;28mself\u001b[39m\u001b[38;5;241m.\u001b[39mstate, \u001b[38;5;28mself\u001b[39m\u001b[38;5;241m.\u001b[39mcontrol)\n\u001b[0;32m   1853\u001b[0m \u001b[38;5;28;01mwith\u001b[39;00m \u001b[38;5;28mself\u001b[39m\u001b[38;5;241m.\u001b[39maccelerator\u001b[38;5;241m.\u001b[39maccumulate(model):\n\u001b[1;32m-> 1854\u001b[0m     tr_loss_step \u001b[38;5;241m=\u001b[39m \u001b[38;5;28;43mself\u001b[39;49m\u001b[38;5;241;43m.\u001b[39;49m\u001b[43mtraining_step\u001b[49m\u001b[43m(\u001b[49m\u001b[43mmodel\u001b[49m\u001b[43m,\u001b[49m\u001b[43m \u001b[49m\u001b[43minputs\u001b[49m\u001b[43m)\u001b[49m\n\u001b[0;32m   1856\u001b[0m \u001b[38;5;28;01mif\u001b[39;00m (\n\u001b[0;32m   1857\u001b[0m     args\u001b[38;5;241m.\u001b[39mlogging_nan_inf_filter\n\u001b[0;32m   1858\u001b[0m     \u001b[38;5;129;01mand\u001b[39;00m \u001b[38;5;129;01mnot\u001b[39;00m is_torch_tpu_available()\n\u001b[0;32m   1859\u001b[0m     \u001b[38;5;129;01mand\u001b[39;00m (torch\u001b[38;5;241m.\u001b[39misnan(tr_loss_step) \u001b[38;5;129;01mor\u001b[39;00m torch\u001b[38;5;241m.\u001b[39misinf(tr_loss_step))\n\u001b[0;32m   1860\u001b[0m ):\n\u001b[0;32m   1861\u001b[0m     \u001b[38;5;66;03m# if loss is nan or inf simply add the average of previous logged losses\u001b[39;00m\n\u001b[0;32m   1862\u001b[0m     tr_loss \u001b[38;5;241m+\u001b[39m\u001b[38;5;241m=\u001b[39m tr_loss \u001b[38;5;241m/\u001b[39m (\u001b[38;5;241m1\u001b[39m \u001b[38;5;241m+\u001b[39m \u001b[38;5;28mself\u001b[39m\u001b[38;5;241m.\u001b[39mstate\u001b[38;5;241m.\u001b[39mglobal_step \u001b[38;5;241m-\u001b[39m \u001b[38;5;28mself\u001b[39m\u001b[38;5;241m.\u001b[39m_globalstep_last_logged)\n",
      "File \u001b[1;32mc:\\Users\\daria\\anaconda3\\envs\\negation\\lib\\site-packages\\transformers\\trainer.py:2735\u001b[0m, in \u001b[0;36mTrainer.training_step\u001b[1;34m(self, model, inputs)\u001b[0m\n\u001b[0;32m   2732\u001b[0m     \u001b[38;5;28;01mreturn\u001b[39;00m loss_mb\u001b[38;5;241m.\u001b[39mreduce_mean()\u001b[38;5;241m.\u001b[39mdetach()\u001b[38;5;241m.\u001b[39mto(\u001b[38;5;28mself\u001b[39m\u001b[38;5;241m.\u001b[39margs\u001b[38;5;241m.\u001b[39mdevice)\n\u001b[0;32m   2734\u001b[0m \u001b[38;5;28;01mwith\u001b[39;00m \u001b[38;5;28mself\u001b[39m\u001b[38;5;241m.\u001b[39mcompute_loss_context_manager():\n\u001b[1;32m-> 2735\u001b[0m     loss \u001b[38;5;241m=\u001b[39m \u001b[38;5;28;43mself\u001b[39;49m\u001b[38;5;241;43m.\u001b[39;49m\u001b[43mcompute_loss\u001b[49m\u001b[43m(\u001b[49m\u001b[43mmodel\u001b[49m\u001b[43m,\u001b[49m\u001b[43m \u001b[49m\u001b[43minputs\u001b[49m\u001b[43m)\u001b[49m\n\u001b[0;32m   2737\u001b[0m \u001b[38;5;28;01mif\u001b[39;00m \u001b[38;5;28mself\u001b[39m\u001b[38;5;241m.\u001b[39margs\u001b[38;5;241m.\u001b[39mn_gpu \u001b[38;5;241m>\u001b[39m \u001b[38;5;241m1\u001b[39m:\n\u001b[0;32m   2738\u001b[0m     loss \u001b[38;5;241m=\u001b[39m loss\u001b[38;5;241m.\u001b[39mmean()  \u001b[38;5;66;03m# mean() to average on multi-gpu parallel training\u001b[39;00m\n",
      "File \u001b[1;32mc:\\Users\\daria\\anaconda3\\envs\\negation\\lib\\site-packages\\transformers\\trainer.py:2758\u001b[0m, in \u001b[0;36mTrainer.compute_loss\u001b[1;34m(self, model, inputs, return_outputs)\u001b[0m\n\u001b[0;32m   2756\u001b[0m \u001b[38;5;28;01melse\u001b[39;00m:\n\u001b[0;32m   2757\u001b[0m     labels \u001b[38;5;241m=\u001b[39m \u001b[38;5;28;01mNone\u001b[39;00m\n\u001b[1;32m-> 2758\u001b[0m outputs \u001b[38;5;241m=\u001b[39m model(\u001b[38;5;241m*\u001b[39m\u001b[38;5;241m*\u001b[39minputs)\n\u001b[0;32m   2759\u001b[0m \u001b[38;5;66;03m# Save past state if it exists\u001b[39;00m\n\u001b[0;32m   2760\u001b[0m \u001b[38;5;66;03m# TODO: this needs to be fixed and made cleaner later.\u001b[39;00m\n\u001b[0;32m   2761\u001b[0m \u001b[38;5;28;01mif\u001b[39;00m \u001b[38;5;28mself\u001b[39m\u001b[38;5;241m.\u001b[39margs\u001b[38;5;241m.\u001b[39mpast_index \u001b[38;5;241m>\u001b[39m\u001b[38;5;241m=\u001b[39m \u001b[38;5;241m0\u001b[39m:\n",
      "File \u001b[1;32mc:\\Users\\daria\\anaconda3\\envs\\negation\\lib\\site-packages\\torch\\nn\\modules\\module.py:1532\u001b[0m, in \u001b[0;36mModule._wrapped_call_impl\u001b[1;34m(self, *args, **kwargs)\u001b[0m\n\u001b[0;32m   1530\u001b[0m     \u001b[38;5;28;01mreturn\u001b[39;00m \u001b[38;5;28mself\u001b[39m\u001b[38;5;241m.\u001b[39m_compiled_call_impl(\u001b[38;5;241m*\u001b[39margs, \u001b[38;5;241m*\u001b[39m\u001b[38;5;241m*\u001b[39mkwargs)  \u001b[38;5;66;03m# type: ignore[misc]\u001b[39;00m\n\u001b[0;32m   1531\u001b[0m \u001b[38;5;28;01melse\u001b[39;00m:\n\u001b[1;32m-> 1532\u001b[0m     \u001b[38;5;28;01mreturn\u001b[39;00m \u001b[38;5;28mself\u001b[39m\u001b[38;5;241m.\u001b[39m_call_impl(\u001b[38;5;241m*\u001b[39margs, \u001b[38;5;241m*\u001b[39m\u001b[38;5;241m*\u001b[39mkwargs)\n",
      "File \u001b[1;32mc:\\Users\\daria\\anaconda3\\envs\\negation\\lib\\site-packages\\torch\\nn\\modules\\module.py:1541\u001b[0m, in \u001b[0;36mModule._call_impl\u001b[1;34m(self, *args, **kwargs)\u001b[0m\n\u001b[0;32m   1536\u001b[0m \u001b[38;5;66;03m# If we don't have any hooks, we want to skip the rest of the logic in\u001b[39;00m\n\u001b[0;32m   1537\u001b[0m \u001b[38;5;66;03m# this function, and just call forward.\u001b[39;00m\n\u001b[0;32m   1538\u001b[0m \u001b[38;5;28;01mif\u001b[39;00m \u001b[38;5;129;01mnot\u001b[39;00m (\u001b[38;5;28mself\u001b[39m\u001b[38;5;241m.\u001b[39m_backward_hooks \u001b[38;5;129;01mor\u001b[39;00m \u001b[38;5;28mself\u001b[39m\u001b[38;5;241m.\u001b[39m_backward_pre_hooks \u001b[38;5;129;01mor\u001b[39;00m \u001b[38;5;28mself\u001b[39m\u001b[38;5;241m.\u001b[39m_forward_hooks \u001b[38;5;129;01mor\u001b[39;00m \u001b[38;5;28mself\u001b[39m\u001b[38;5;241m.\u001b[39m_forward_pre_hooks\n\u001b[0;32m   1539\u001b[0m         \u001b[38;5;129;01mor\u001b[39;00m _global_backward_pre_hooks \u001b[38;5;129;01mor\u001b[39;00m _global_backward_hooks\n\u001b[0;32m   1540\u001b[0m         \u001b[38;5;129;01mor\u001b[39;00m _global_forward_hooks \u001b[38;5;129;01mor\u001b[39;00m _global_forward_pre_hooks):\n\u001b[1;32m-> 1541\u001b[0m     \u001b[38;5;28;01mreturn\u001b[39;00m forward_call(\u001b[38;5;241m*\u001b[39margs, \u001b[38;5;241m*\u001b[39m\u001b[38;5;241m*\u001b[39mkwargs)\n\u001b[0;32m   1543\u001b[0m \u001b[38;5;28;01mtry\u001b[39;00m:\n\u001b[0;32m   1544\u001b[0m     result \u001b[38;5;241m=\u001b[39m \u001b[38;5;28;01mNone\u001b[39;00m\n",
      "File \u001b[1;32mc:\\Users\\daria\\anaconda3\\envs\\negation\\lib\\site-packages\\peft\\peft_model.py:1131\u001b[0m, in \u001b[0;36mPeftModelForCausalLM.forward\u001b[1;34m(self, input_ids, attention_mask, inputs_embeds, labels, output_attentions, output_hidden_states, return_dict, task_ids, **kwargs)\u001b[0m\n\u001b[0;32m   1129\u001b[0m prompts \u001b[38;5;241m=\u001b[39m prompts\u001b[38;5;241m.\u001b[39mto(inputs_embeds\u001b[38;5;241m.\u001b[39mdtype)\n\u001b[0;32m   1130\u001b[0m inputs_embeds \u001b[38;5;241m=\u001b[39m torch\u001b[38;5;241m.\u001b[39mcat((prompts, inputs_embeds), dim\u001b[38;5;241m=\u001b[39m\u001b[38;5;241m1\u001b[39m)\n\u001b[1;32m-> 1131\u001b[0m \u001b[38;5;28;01mreturn\u001b[39;00m \u001b[38;5;28mself\u001b[39m\u001b[38;5;241m.\u001b[39mbase_model(inputs_embeds\u001b[38;5;241m=\u001b[39minputs_embeds, \u001b[38;5;241m*\u001b[39m\u001b[38;5;241m*\u001b[39mkwargs)\n",
      "File \u001b[1;32mc:\\Users\\daria\\anaconda3\\envs\\negation\\lib\\site-packages\\torch\\nn\\modules\\module.py:1532\u001b[0m, in \u001b[0;36mModule._wrapped_call_impl\u001b[1;34m(self, *args, **kwargs)\u001b[0m\n\u001b[0;32m   1530\u001b[0m     \u001b[38;5;28;01mreturn\u001b[39;00m \u001b[38;5;28mself\u001b[39m\u001b[38;5;241m.\u001b[39m_compiled_call_impl(\u001b[38;5;241m*\u001b[39margs, \u001b[38;5;241m*\u001b[39m\u001b[38;5;241m*\u001b[39mkwargs)  \u001b[38;5;66;03m# type: ignore[misc]\u001b[39;00m\n\u001b[0;32m   1531\u001b[0m \u001b[38;5;28;01melse\u001b[39;00m:\n\u001b[1;32m-> 1532\u001b[0m     \u001b[38;5;28;01mreturn\u001b[39;00m \u001b[38;5;28mself\u001b[39m\u001b[38;5;241m.\u001b[39m_call_impl(\u001b[38;5;241m*\u001b[39margs, \u001b[38;5;241m*\u001b[39m\u001b[38;5;241m*\u001b[39mkwargs)\n",
      "File \u001b[1;32mc:\\Users\\daria\\anaconda3\\envs\\negation\\lib\\site-packages\\torch\\nn\\modules\\module.py:1541\u001b[0m, in \u001b[0;36mModule._call_impl\u001b[1;34m(self, *args, **kwargs)\u001b[0m\n\u001b[0;32m   1536\u001b[0m \u001b[38;5;66;03m# If we don't have any hooks, we want to skip the rest of the logic in\u001b[39;00m\n\u001b[0;32m   1537\u001b[0m \u001b[38;5;66;03m# this function, and just call forward.\u001b[39;00m\n\u001b[0;32m   1538\u001b[0m \u001b[38;5;28;01mif\u001b[39;00m \u001b[38;5;129;01mnot\u001b[39;00m (\u001b[38;5;28mself\u001b[39m\u001b[38;5;241m.\u001b[39m_backward_hooks \u001b[38;5;129;01mor\u001b[39;00m \u001b[38;5;28mself\u001b[39m\u001b[38;5;241m.\u001b[39m_backward_pre_hooks \u001b[38;5;129;01mor\u001b[39;00m \u001b[38;5;28mself\u001b[39m\u001b[38;5;241m.\u001b[39m_forward_hooks \u001b[38;5;129;01mor\u001b[39;00m \u001b[38;5;28mself\u001b[39m\u001b[38;5;241m.\u001b[39m_forward_pre_hooks\n\u001b[0;32m   1539\u001b[0m         \u001b[38;5;129;01mor\u001b[39;00m _global_backward_pre_hooks \u001b[38;5;129;01mor\u001b[39;00m _global_backward_hooks\n\u001b[0;32m   1540\u001b[0m         \u001b[38;5;129;01mor\u001b[39;00m _global_forward_hooks \u001b[38;5;129;01mor\u001b[39;00m _global_forward_pre_hooks):\n\u001b[1;32m-> 1541\u001b[0m     \u001b[38;5;28;01mreturn\u001b[39;00m forward_call(\u001b[38;5;241m*\u001b[39margs, \u001b[38;5;241m*\u001b[39m\u001b[38;5;241m*\u001b[39mkwargs)\n\u001b[0;32m   1543\u001b[0m \u001b[38;5;28;01mtry\u001b[39;00m:\n\u001b[0;32m   1544\u001b[0m     result \u001b[38;5;241m=\u001b[39m \u001b[38;5;28;01mNone\u001b[39;00m\n",
      "File \u001b[1;32mc:\\Users\\daria\\anaconda3\\envs\\negation\\lib\\site-packages\\transformers\\models\\gpt2\\modeling_gpt2.py:1074\u001b[0m, in \u001b[0;36mGPT2LMHeadModel.forward\u001b[1;34m(self, input_ids, past_key_values, attention_mask, token_type_ids, position_ids, head_mask, inputs_embeds, encoder_hidden_states, encoder_attention_mask, labels, use_cache, output_attentions, output_hidden_states, return_dict)\u001b[0m\n\u001b[0;32m   1066\u001b[0m \u001b[38;5;250m\u001b[39m\u001b[38;5;124mr\u001b[39m\u001b[38;5;124;03m\"\"\"\u001b[39;00m\n\u001b[0;32m   1067\u001b[0m \u001b[38;5;124;03mlabels (`torch.LongTensor` of shape `(batch_size, sequence_length)`, *optional*):\u001b[39;00m\n\u001b[0;32m   1068\u001b[0m \u001b[38;5;124;03m    Labels for language modeling. Note that the labels **are shifted** inside the model, i.e. you can set\u001b[39;00m\n\u001b[0;32m   1069\u001b[0m \u001b[38;5;124;03m    `labels = input_ids` Indices are selected in `[-100, 0, ..., config.vocab_size]` All labels set to `-100`\u001b[39;00m\n\u001b[0;32m   1070\u001b[0m \u001b[38;5;124;03m    are ignored (masked), the loss is only computed for labels in `[0, ..., config.vocab_size]`\u001b[39;00m\n\u001b[0;32m   1071\u001b[0m \u001b[38;5;124;03m\"\"\"\u001b[39;00m\n\u001b[0;32m   1072\u001b[0m return_dict \u001b[38;5;241m=\u001b[39m return_dict \u001b[38;5;28;01mif\u001b[39;00m return_dict \u001b[38;5;129;01mis\u001b[39;00m \u001b[38;5;129;01mnot\u001b[39;00m \u001b[38;5;28;01mNone\u001b[39;00m \u001b[38;5;28;01melse\u001b[39;00m \u001b[38;5;28mself\u001b[39m\u001b[38;5;241m.\u001b[39mconfig\u001b[38;5;241m.\u001b[39muse_return_dict\n\u001b[1;32m-> 1074\u001b[0m transformer_outputs \u001b[38;5;241m=\u001b[39m \u001b[38;5;28;43mself\u001b[39;49m\u001b[38;5;241;43m.\u001b[39;49m\u001b[43mtransformer\u001b[49m\u001b[43m(\u001b[49m\n\u001b[0;32m   1075\u001b[0m \u001b[43m    \u001b[49m\u001b[43minput_ids\u001b[49m\u001b[43m,\u001b[49m\n\u001b[0;32m   1076\u001b[0m \u001b[43m    \u001b[49m\u001b[43mpast_key_values\u001b[49m\u001b[38;5;241;43m=\u001b[39;49m\u001b[43mpast_key_values\u001b[49m\u001b[43m,\u001b[49m\n\u001b[0;32m   1077\u001b[0m \u001b[43m    \u001b[49m\u001b[43mattention_mask\u001b[49m\u001b[38;5;241;43m=\u001b[39;49m\u001b[43mattention_mask\u001b[49m\u001b[43m,\u001b[49m\n\u001b[0;32m   1078\u001b[0m \u001b[43m    \u001b[49m\u001b[43mtoken_type_ids\u001b[49m\u001b[38;5;241;43m=\u001b[39;49m\u001b[43mtoken_type_ids\u001b[49m\u001b[43m,\u001b[49m\n\u001b[0;32m   1079\u001b[0m \u001b[43m    \u001b[49m\u001b[43mposition_ids\u001b[49m\u001b[38;5;241;43m=\u001b[39;49m\u001b[43mposition_ids\u001b[49m\u001b[43m,\u001b[49m\n\u001b[0;32m   1080\u001b[0m \u001b[43m    \u001b[49m\u001b[43mhead_mask\u001b[49m\u001b[38;5;241;43m=\u001b[39;49m\u001b[43mhead_mask\u001b[49m\u001b[43m,\u001b[49m\n\u001b[0;32m   1081\u001b[0m \u001b[43m    \u001b[49m\u001b[43minputs_embeds\u001b[49m\u001b[38;5;241;43m=\u001b[39;49m\u001b[43minputs_embeds\u001b[49m\u001b[43m,\u001b[49m\n\u001b[0;32m   1082\u001b[0m \u001b[43m    \u001b[49m\u001b[43mencoder_hidden_states\u001b[49m\u001b[38;5;241;43m=\u001b[39;49m\u001b[43mencoder_hidden_states\u001b[49m\u001b[43m,\u001b[49m\n\u001b[0;32m   1083\u001b[0m \u001b[43m    \u001b[49m\u001b[43mencoder_attention_mask\u001b[49m\u001b[38;5;241;43m=\u001b[39;49m\u001b[43mencoder_attention_mask\u001b[49m\u001b[43m,\u001b[49m\n\u001b[0;32m   1084\u001b[0m \u001b[43m    \u001b[49m\u001b[43muse_cache\u001b[49m\u001b[38;5;241;43m=\u001b[39;49m\u001b[43muse_cache\u001b[49m\u001b[43m,\u001b[49m\n\u001b[0;32m   1085\u001b[0m \u001b[43m    \u001b[49m\u001b[43moutput_attentions\u001b[49m\u001b[38;5;241;43m=\u001b[39;49m\u001b[43moutput_attentions\u001b[49m\u001b[43m,\u001b[49m\n\u001b[0;32m   1086\u001b[0m \u001b[43m    \u001b[49m\u001b[43moutput_hidden_states\u001b[49m\u001b[38;5;241;43m=\u001b[39;49m\u001b[43moutput_hidden_states\u001b[49m\u001b[43m,\u001b[49m\n\u001b[0;32m   1087\u001b[0m \u001b[43m    \u001b[49m\u001b[43mreturn_dict\u001b[49m\u001b[38;5;241;43m=\u001b[39;49m\u001b[43mreturn_dict\u001b[49m\u001b[43m,\u001b[49m\n\u001b[0;32m   1088\u001b[0m \u001b[43m\u001b[49m\u001b[43m)\u001b[49m\n\u001b[0;32m   1089\u001b[0m hidden_states \u001b[38;5;241m=\u001b[39m transformer_outputs[\u001b[38;5;241m0\u001b[39m]\n\u001b[0;32m   1091\u001b[0m \u001b[38;5;66;03m# Set device for model parallelism\u001b[39;00m\n",
      "File \u001b[1;32mc:\\Users\\daria\\anaconda3\\envs\\negation\\lib\\site-packages\\torch\\nn\\modules\\module.py:1532\u001b[0m, in \u001b[0;36mModule._wrapped_call_impl\u001b[1;34m(self, *args, **kwargs)\u001b[0m\n\u001b[0;32m   1530\u001b[0m     \u001b[38;5;28;01mreturn\u001b[39;00m \u001b[38;5;28mself\u001b[39m\u001b[38;5;241m.\u001b[39m_compiled_call_impl(\u001b[38;5;241m*\u001b[39margs, \u001b[38;5;241m*\u001b[39m\u001b[38;5;241m*\u001b[39mkwargs)  \u001b[38;5;66;03m# type: ignore[misc]\u001b[39;00m\n\u001b[0;32m   1531\u001b[0m \u001b[38;5;28;01melse\u001b[39;00m:\n\u001b[1;32m-> 1532\u001b[0m     \u001b[38;5;28;01mreturn\u001b[39;00m \u001b[38;5;28mself\u001b[39m\u001b[38;5;241m.\u001b[39m_call_impl(\u001b[38;5;241m*\u001b[39margs, \u001b[38;5;241m*\u001b[39m\u001b[38;5;241m*\u001b[39mkwargs)\n",
      "File \u001b[1;32mc:\\Users\\daria\\anaconda3\\envs\\negation\\lib\\site-packages\\torch\\nn\\modules\\module.py:1541\u001b[0m, in \u001b[0;36mModule._call_impl\u001b[1;34m(self, *args, **kwargs)\u001b[0m\n\u001b[0;32m   1536\u001b[0m \u001b[38;5;66;03m# If we don't have any hooks, we want to skip the rest of the logic in\u001b[39;00m\n\u001b[0;32m   1537\u001b[0m \u001b[38;5;66;03m# this function, and just call forward.\u001b[39;00m\n\u001b[0;32m   1538\u001b[0m \u001b[38;5;28;01mif\u001b[39;00m \u001b[38;5;129;01mnot\u001b[39;00m (\u001b[38;5;28mself\u001b[39m\u001b[38;5;241m.\u001b[39m_backward_hooks \u001b[38;5;129;01mor\u001b[39;00m \u001b[38;5;28mself\u001b[39m\u001b[38;5;241m.\u001b[39m_backward_pre_hooks \u001b[38;5;129;01mor\u001b[39;00m \u001b[38;5;28mself\u001b[39m\u001b[38;5;241m.\u001b[39m_forward_hooks \u001b[38;5;129;01mor\u001b[39;00m \u001b[38;5;28mself\u001b[39m\u001b[38;5;241m.\u001b[39m_forward_pre_hooks\n\u001b[0;32m   1539\u001b[0m         \u001b[38;5;129;01mor\u001b[39;00m _global_backward_pre_hooks \u001b[38;5;129;01mor\u001b[39;00m _global_backward_hooks\n\u001b[0;32m   1540\u001b[0m         \u001b[38;5;129;01mor\u001b[39;00m _global_forward_hooks \u001b[38;5;129;01mor\u001b[39;00m _global_forward_pre_hooks):\n\u001b[1;32m-> 1541\u001b[0m     \u001b[38;5;28;01mreturn\u001b[39;00m forward_call(\u001b[38;5;241m*\u001b[39margs, \u001b[38;5;241m*\u001b[39m\u001b[38;5;241m*\u001b[39mkwargs)\n\u001b[0;32m   1543\u001b[0m \u001b[38;5;28;01mtry\u001b[39;00m:\n\u001b[0;32m   1544\u001b[0m     result \u001b[38;5;241m=\u001b[39m \u001b[38;5;28;01mNone\u001b[39;00m\n",
      "File \u001b[1;32mc:\\Users\\daria\\anaconda3\\envs\\negation\\lib\\site-packages\\transformers\\models\\gpt2\\modeling_gpt2.py:888\u001b[0m, in \u001b[0;36mGPT2Model.forward\u001b[1;34m(self, input_ids, past_key_values, attention_mask, token_type_ids, position_ids, head_mask, inputs_embeds, encoder_hidden_states, encoder_attention_mask, use_cache, output_attentions, output_hidden_states, return_dict)\u001b[0m\n\u001b[0;32m    876\u001b[0m     outputs \u001b[38;5;241m=\u001b[39m \u001b[38;5;28mself\u001b[39m\u001b[38;5;241m.\u001b[39m_gradient_checkpointing_func(\n\u001b[0;32m    877\u001b[0m         block\u001b[38;5;241m.\u001b[39m\u001b[38;5;21m__call__\u001b[39m,\n\u001b[0;32m    878\u001b[0m         hidden_states,\n\u001b[1;32m   (...)\u001b[0m\n\u001b[0;32m    885\u001b[0m         output_attentions,\n\u001b[0;32m    886\u001b[0m     )\n\u001b[0;32m    887\u001b[0m \u001b[38;5;28;01melse\u001b[39;00m:\n\u001b[1;32m--> 888\u001b[0m     outputs \u001b[38;5;241m=\u001b[39m \u001b[43mblock\u001b[49m\u001b[43m(\u001b[49m\n\u001b[0;32m    889\u001b[0m \u001b[43m        \u001b[49m\u001b[43mhidden_states\u001b[49m\u001b[43m,\u001b[49m\n\u001b[0;32m    890\u001b[0m \u001b[43m        \u001b[49m\u001b[43mlayer_past\u001b[49m\u001b[38;5;241;43m=\u001b[39;49m\u001b[43mlayer_past\u001b[49m\u001b[43m,\u001b[49m\n\u001b[0;32m    891\u001b[0m \u001b[43m        \u001b[49m\u001b[43mattention_mask\u001b[49m\u001b[38;5;241;43m=\u001b[39;49m\u001b[43mattention_mask\u001b[49m\u001b[43m,\u001b[49m\n\u001b[0;32m    892\u001b[0m \u001b[43m        \u001b[49m\u001b[43mhead_mask\u001b[49m\u001b[38;5;241;43m=\u001b[39;49m\u001b[43mhead_mask\u001b[49m\u001b[43m[\u001b[49m\u001b[43mi\u001b[49m\u001b[43m]\u001b[49m\u001b[43m,\u001b[49m\n\u001b[0;32m    893\u001b[0m \u001b[43m        \u001b[49m\u001b[43mencoder_hidden_states\u001b[49m\u001b[38;5;241;43m=\u001b[39;49m\u001b[43mencoder_hidden_states\u001b[49m\u001b[43m,\u001b[49m\n\u001b[0;32m    894\u001b[0m \u001b[43m        \u001b[49m\u001b[43mencoder_attention_mask\u001b[49m\u001b[38;5;241;43m=\u001b[39;49m\u001b[43mencoder_attention_mask\u001b[49m\u001b[43m,\u001b[49m\n\u001b[0;32m    895\u001b[0m \u001b[43m        \u001b[49m\u001b[43muse_cache\u001b[49m\u001b[38;5;241;43m=\u001b[39;49m\u001b[43muse_cache\u001b[49m\u001b[43m,\u001b[49m\n\u001b[0;32m    896\u001b[0m \u001b[43m        \u001b[49m\u001b[43moutput_attentions\u001b[49m\u001b[38;5;241;43m=\u001b[39;49m\u001b[43moutput_attentions\u001b[49m\u001b[43m,\u001b[49m\n\u001b[0;32m    897\u001b[0m \u001b[43m    \u001b[49m\u001b[43m)\u001b[49m\n\u001b[0;32m    899\u001b[0m hidden_states \u001b[38;5;241m=\u001b[39m outputs[\u001b[38;5;241m0\u001b[39m]\n\u001b[0;32m    900\u001b[0m \u001b[38;5;28;01mif\u001b[39;00m use_cache \u001b[38;5;129;01mis\u001b[39;00m \u001b[38;5;28;01mTrue\u001b[39;00m:\n",
      "File \u001b[1;32mc:\\Users\\daria\\anaconda3\\envs\\negation\\lib\\site-packages\\torch\\nn\\modules\\module.py:1532\u001b[0m, in \u001b[0;36mModule._wrapped_call_impl\u001b[1;34m(self, *args, **kwargs)\u001b[0m\n\u001b[0;32m   1530\u001b[0m     \u001b[38;5;28;01mreturn\u001b[39;00m \u001b[38;5;28mself\u001b[39m\u001b[38;5;241m.\u001b[39m_compiled_call_impl(\u001b[38;5;241m*\u001b[39margs, \u001b[38;5;241m*\u001b[39m\u001b[38;5;241m*\u001b[39mkwargs)  \u001b[38;5;66;03m# type: ignore[misc]\u001b[39;00m\n\u001b[0;32m   1531\u001b[0m \u001b[38;5;28;01melse\u001b[39;00m:\n\u001b[1;32m-> 1532\u001b[0m     \u001b[38;5;28;01mreturn\u001b[39;00m \u001b[38;5;28mself\u001b[39m\u001b[38;5;241m.\u001b[39m_call_impl(\u001b[38;5;241m*\u001b[39margs, \u001b[38;5;241m*\u001b[39m\u001b[38;5;241m*\u001b[39mkwargs)\n",
      "File \u001b[1;32mc:\\Users\\daria\\anaconda3\\envs\\negation\\lib\\site-packages\\torch\\nn\\modules\\module.py:1541\u001b[0m, in \u001b[0;36mModule._call_impl\u001b[1;34m(self, *args, **kwargs)\u001b[0m\n\u001b[0;32m   1536\u001b[0m \u001b[38;5;66;03m# If we don't have any hooks, we want to skip the rest of the logic in\u001b[39;00m\n\u001b[0;32m   1537\u001b[0m \u001b[38;5;66;03m# this function, and just call forward.\u001b[39;00m\n\u001b[0;32m   1538\u001b[0m \u001b[38;5;28;01mif\u001b[39;00m \u001b[38;5;129;01mnot\u001b[39;00m (\u001b[38;5;28mself\u001b[39m\u001b[38;5;241m.\u001b[39m_backward_hooks \u001b[38;5;129;01mor\u001b[39;00m \u001b[38;5;28mself\u001b[39m\u001b[38;5;241m.\u001b[39m_backward_pre_hooks \u001b[38;5;129;01mor\u001b[39;00m \u001b[38;5;28mself\u001b[39m\u001b[38;5;241m.\u001b[39m_forward_hooks \u001b[38;5;129;01mor\u001b[39;00m \u001b[38;5;28mself\u001b[39m\u001b[38;5;241m.\u001b[39m_forward_pre_hooks\n\u001b[0;32m   1539\u001b[0m         \u001b[38;5;129;01mor\u001b[39;00m _global_backward_pre_hooks \u001b[38;5;129;01mor\u001b[39;00m _global_backward_hooks\n\u001b[0;32m   1540\u001b[0m         \u001b[38;5;129;01mor\u001b[39;00m _global_forward_hooks \u001b[38;5;129;01mor\u001b[39;00m _global_forward_pre_hooks):\n\u001b[1;32m-> 1541\u001b[0m     \u001b[38;5;28;01mreturn\u001b[39;00m forward_call(\u001b[38;5;241m*\u001b[39margs, \u001b[38;5;241m*\u001b[39m\u001b[38;5;241m*\u001b[39mkwargs)\n\u001b[0;32m   1543\u001b[0m \u001b[38;5;28;01mtry\u001b[39;00m:\n\u001b[0;32m   1544\u001b[0m     result \u001b[38;5;241m=\u001b[39m \u001b[38;5;28;01mNone\u001b[39;00m\n",
      "File \u001b[1;32mc:\\Users\\daria\\anaconda3\\envs\\negation\\lib\\site-packages\\transformers\\models\\gpt2\\modeling_gpt2.py:427\u001b[0m, in \u001b[0;36mGPT2Block.forward\u001b[1;34m(self, hidden_states, layer_past, attention_mask, head_mask, encoder_hidden_states, encoder_attention_mask, use_cache, output_attentions)\u001b[0m\n\u001b[0;32m    425\u001b[0m residual \u001b[38;5;241m=\u001b[39m hidden_states\n\u001b[0;32m    426\u001b[0m hidden_states \u001b[38;5;241m=\u001b[39m \u001b[38;5;28mself\u001b[39m\u001b[38;5;241m.\u001b[39mln_2(hidden_states)\n\u001b[1;32m--> 427\u001b[0m feed_forward_hidden_states \u001b[38;5;241m=\u001b[39m \u001b[38;5;28;43mself\u001b[39;49m\u001b[38;5;241;43m.\u001b[39;49m\u001b[43mmlp\u001b[49m\u001b[43m(\u001b[49m\u001b[43mhidden_states\u001b[49m\u001b[43m)\u001b[49m\n\u001b[0;32m    428\u001b[0m \u001b[38;5;66;03m# residual connection\u001b[39;00m\n\u001b[0;32m    429\u001b[0m hidden_states \u001b[38;5;241m=\u001b[39m residual \u001b[38;5;241m+\u001b[39m feed_forward_hidden_states\n",
      "File \u001b[1;32mc:\\Users\\daria\\anaconda3\\envs\\negation\\lib\\site-packages\\torch\\nn\\modules\\module.py:1532\u001b[0m, in \u001b[0;36mModule._wrapped_call_impl\u001b[1;34m(self, *args, **kwargs)\u001b[0m\n\u001b[0;32m   1530\u001b[0m     \u001b[38;5;28;01mreturn\u001b[39;00m \u001b[38;5;28mself\u001b[39m\u001b[38;5;241m.\u001b[39m_compiled_call_impl(\u001b[38;5;241m*\u001b[39margs, \u001b[38;5;241m*\u001b[39m\u001b[38;5;241m*\u001b[39mkwargs)  \u001b[38;5;66;03m# type: ignore[misc]\u001b[39;00m\n\u001b[0;32m   1531\u001b[0m \u001b[38;5;28;01melse\u001b[39;00m:\n\u001b[1;32m-> 1532\u001b[0m     \u001b[38;5;28;01mreturn\u001b[39;00m \u001b[38;5;28mself\u001b[39m\u001b[38;5;241m.\u001b[39m_call_impl(\u001b[38;5;241m*\u001b[39margs, \u001b[38;5;241m*\u001b[39m\u001b[38;5;241m*\u001b[39mkwargs)\n",
      "File \u001b[1;32mc:\\Users\\daria\\anaconda3\\envs\\negation\\lib\\site-packages\\torch\\nn\\modules\\module.py:1541\u001b[0m, in \u001b[0;36mModule._call_impl\u001b[1;34m(self, *args, **kwargs)\u001b[0m\n\u001b[0;32m   1536\u001b[0m \u001b[38;5;66;03m# If we don't have any hooks, we want to skip the rest of the logic in\u001b[39;00m\n\u001b[0;32m   1537\u001b[0m \u001b[38;5;66;03m# this function, and just call forward.\u001b[39;00m\n\u001b[0;32m   1538\u001b[0m \u001b[38;5;28;01mif\u001b[39;00m \u001b[38;5;129;01mnot\u001b[39;00m (\u001b[38;5;28mself\u001b[39m\u001b[38;5;241m.\u001b[39m_backward_hooks \u001b[38;5;129;01mor\u001b[39;00m \u001b[38;5;28mself\u001b[39m\u001b[38;5;241m.\u001b[39m_backward_pre_hooks \u001b[38;5;129;01mor\u001b[39;00m \u001b[38;5;28mself\u001b[39m\u001b[38;5;241m.\u001b[39m_forward_hooks \u001b[38;5;129;01mor\u001b[39;00m \u001b[38;5;28mself\u001b[39m\u001b[38;5;241m.\u001b[39m_forward_pre_hooks\n\u001b[0;32m   1539\u001b[0m         \u001b[38;5;129;01mor\u001b[39;00m _global_backward_pre_hooks \u001b[38;5;129;01mor\u001b[39;00m _global_backward_hooks\n\u001b[0;32m   1540\u001b[0m         \u001b[38;5;129;01mor\u001b[39;00m _global_forward_hooks \u001b[38;5;129;01mor\u001b[39;00m _global_forward_pre_hooks):\n\u001b[1;32m-> 1541\u001b[0m     \u001b[38;5;28;01mreturn\u001b[39;00m forward_call(\u001b[38;5;241m*\u001b[39margs, \u001b[38;5;241m*\u001b[39m\u001b[38;5;241m*\u001b[39mkwargs)\n\u001b[0;32m   1543\u001b[0m \u001b[38;5;28;01mtry\u001b[39;00m:\n\u001b[0;32m   1544\u001b[0m     result \u001b[38;5;241m=\u001b[39m \u001b[38;5;28;01mNone\u001b[39;00m\n",
      "File \u001b[1;32mc:\\Users\\daria\\anaconda3\\envs\\negation\\lib\\site-packages\\transformers\\models\\gpt2\\modeling_gpt2.py:356\u001b[0m, in \u001b[0;36mGPT2MLP.forward\u001b[1;34m(self, hidden_states)\u001b[0m\n\u001b[0;32m    354\u001b[0m hidden_states \u001b[38;5;241m=\u001b[39m \u001b[38;5;28mself\u001b[39m\u001b[38;5;241m.\u001b[39mc_fc(hidden_states)\n\u001b[0;32m    355\u001b[0m hidden_states \u001b[38;5;241m=\u001b[39m \u001b[38;5;28mself\u001b[39m\u001b[38;5;241m.\u001b[39mact(hidden_states)\n\u001b[1;32m--> 356\u001b[0m hidden_states \u001b[38;5;241m=\u001b[39m \u001b[38;5;28;43mself\u001b[39;49m\u001b[38;5;241;43m.\u001b[39;49m\u001b[43mc_proj\u001b[49m\u001b[43m(\u001b[49m\u001b[43mhidden_states\u001b[49m\u001b[43m)\u001b[49m\n\u001b[0;32m    357\u001b[0m hidden_states \u001b[38;5;241m=\u001b[39m \u001b[38;5;28mself\u001b[39m\u001b[38;5;241m.\u001b[39mdropout(hidden_states)\n\u001b[0;32m    358\u001b[0m \u001b[38;5;28;01mreturn\u001b[39;00m hidden_states\n",
      "File \u001b[1;32mc:\\Users\\daria\\anaconda3\\envs\\negation\\lib\\site-packages\\torch\\nn\\modules\\module.py:1532\u001b[0m, in \u001b[0;36mModule._wrapped_call_impl\u001b[1;34m(self, *args, **kwargs)\u001b[0m\n\u001b[0;32m   1530\u001b[0m     \u001b[38;5;28;01mreturn\u001b[39;00m \u001b[38;5;28mself\u001b[39m\u001b[38;5;241m.\u001b[39m_compiled_call_impl(\u001b[38;5;241m*\u001b[39margs, \u001b[38;5;241m*\u001b[39m\u001b[38;5;241m*\u001b[39mkwargs)  \u001b[38;5;66;03m# type: ignore[misc]\u001b[39;00m\n\u001b[0;32m   1531\u001b[0m \u001b[38;5;28;01melse\u001b[39;00m:\n\u001b[1;32m-> 1532\u001b[0m     \u001b[38;5;28;01mreturn\u001b[39;00m \u001b[38;5;28mself\u001b[39m\u001b[38;5;241m.\u001b[39m_call_impl(\u001b[38;5;241m*\u001b[39margs, \u001b[38;5;241m*\u001b[39m\u001b[38;5;241m*\u001b[39mkwargs)\n",
      "File \u001b[1;32mc:\\Users\\daria\\anaconda3\\envs\\negation\\lib\\site-packages\\torch\\nn\\modules\\module.py:1541\u001b[0m, in \u001b[0;36mModule._call_impl\u001b[1;34m(self, *args, **kwargs)\u001b[0m\n\u001b[0;32m   1536\u001b[0m \u001b[38;5;66;03m# If we don't have any hooks, we want to skip the rest of the logic in\u001b[39;00m\n\u001b[0;32m   1537\u001b[0m \u001b[38;5;66;03m# this function, and just call forward.\u001b[39;00m\n\u001b[0;32m   1538\u001b[0m \u001b[38;5;28;01mif\u001b[39;00m \u001b[38;5;129;01mnot\u001b[39;00m (\u001b[38;5;28mself\u001b[39m\u001b[38;5;241m.\u001b[39m_backward_hooks \u001b[38;5;129;01mor\u001b[39;00m \u001b[38;5;28mself\u001b[39m\u001b[38;5;241m.\u001b[39m_backward_pre_hooks \u001b[38;5;129;01mor\u001b[39;00m \u001b[38;5;28mself\u001b[39m\u001b[38;5;241m.\u001b[39m_forward_hooks \u001b[38;5;129;01mor\u001b[39;00m \u001b[38;5;28mself\u001b[39m\u001b[38;5;241m.\u001b[39m_forward_pre_hooks\n\u001b[0;32m   1539\u001b[0m         \u001b[38;5;129;01mor\u001b[39;00m _global_backward_pre_hooks \u001b[38;5;129;01mor\u001b[39;00m _global_backward_hooks\n\u001b[0;32m   1540\u001b[0m         \u001b[38;5;129;01mor\u001b[39;00m _global_forward_hooks \u001b[38;5;129;01mor\u001b[39;00m _global_forward_pre_hooks):\n\u001b[1;32m-> 1541\u001b[0m     \u001b[38;5;28;01mreturn\u001b[39;00m forward_call(\u001b[38;5;241m*\u001b[39margs, \u001b[38;5;241m*\u001b[39m\u001b[38;5;241m*\u001b[39mkwargs)\n\u001b[0;32m   1543\u001b[0m \u001b[38;5;28;01mtry\u001b[39;00m:\n\u001b[0;32m   1544\u001b[0m     result \u001b[38;5;241m=\u001b[39m \u001b[38;5;28;01mNone\u001b[39;00m\n",
      "File \u001b[1;32mc:\\Users\\daria\\anaconda3\\envs\\negation\\lib\\site-packages\\transformers\\pytorch_utils.py:108\u001b[0m, in \u001b[0;36mConv1D.forward\u001b[1;34m(self, x)\u001b[0m\n\u001b[0;32m    106\u001b[0m \u001b[38;5;28;01mdef\u001b[39;00m \u001b[38;5;21mforward\u001b[39m(\u001b[38;5;28mself\u001b[39m, x):\n\u001b[0;32m    107\u001b[0m     size_out \u001b[38;5;241m=\u001b[39m x\u001b[38;5;241m.\u001b[39msize()[:\u001b[38;5;241m-\u001b[39m\u001b[38;5;241m1\u001b[39m] \u001b[38;5;241m+\u001b[39m (\u001b[38;5;28mself\u001b[39m\u001b[38;5;241m.\u001b[39mnf,)\n\u001b[1;32m--> 108\u001b[0m     x \u001b[38;5;241m=\u001b[39m \u001b[43mtorch\u001b[49m\u001b[38;5;241;43m.\u001b[39;49m\u001b[43maddmm\u001b[49m\u001b[43m(\u001b[49m\u001b[38;5;28;43mself\u001b[39;49m\u001b[38;5;241;43m.\u001b[39;49m\u001b[43mbias\u001b[49m\u001b[43m,\u001b[49m\u001b[43m \u001b[49m\u001b[43mx\u001b[49m\u001b[38;5;241;43m.\u001b[39;49m\u001b[43mview\u001b[49m\u001b[43m(\u001b[49m\u001b[38;5;241;43m-\u001b[39;49m\u001b[38;5;241;43m1\u001b[39;49m\u001b[43m,\u001b[49m\u001b[43m \u001b[49m\u001b[43mx\u001b[49m\u001b[38;5;241;43m.\u001b[39;49m\u001b[43msize\u001b[49m\u001b[43m(\u001b[49m\u001b[38;5;241;43m-\u001b[39;49m\u001b[38;5;241;43m1\u001b[39;49m\u001b[43m)\u001b[49m\u001b[43m)\u001b[49m\u001b[43m,\u001b[49m\u001b[43m \u001b[49m\u001b[38;5;28;43mself\u001b[39;49m\u001b[38;5;241;43m.\u001b[39;49m\u001b[43mweight\u001b[49m\u001b[43m)\u001b[49m\n\u001b[0;32m    109\u001b[0m     x \u001b[38;5;241m=\u001b[39m x\u001b[38;5;241m.\u001b[39mview(size_out)\n\u001b[0;32m    110\u001b[0m     \u001b[38;5;28;01mreturn\u001b[39;00m x\n",
      "\u001b[1;31mKeyboardInterrupt\u001b[0m: "
     ]
    }
   ],
   "source": [
    "import os\n",
    "from transformers import TrainingArguments, Trainer, DataCollatorForLanguageModeling\n",
    "from peft import PromptTuningConfig, TaskType, PromptTuningInit, get_peft_model\n",
    "from peft import PeftModel\n",
    "from transformers import TrainerCallback\n",
    "\n",
    "\n",
    "class PrintLossCallback(TrainerCallback):\n",
    "    def on_epoch_end(self, args, state, control, **kwargs):\n",
    "        # Check if log history is not empty\n",
    "        if state.log_history and state.is_local_process_zero:\n",
    "            # Print the loss if it's available in the last log entry\n",
    "            if 'loss' in state.log_history[-1]:\n",
    "                print(f\"Epoch {state.epoch}: loss = {state.log_history[-1]['loss']}\")\n",
    "            else:\n",
    "                print(f\"Epoch {state.epoch}: loss not available\")\n",
    "        else:\n",
    "            print(f\"Epoch {state.epoch}: log history is empty or not accessible\")\n",
    "\n",
    "class ModelTrainer:\n",
    "    def __init__(self, model, tokenizer, working_dir=\"./\", output_dir_name=\"peft_outputs\"):\n",
    "        self.working_dir = working_dir\n",
    "        self.output_dir_name = output_dir_name\n",
    "        self.output_directory = self.create_model_directories(self.working_dir, self.output_dir_name)\n",
    "        self.model_name = \"uw-hai/polyjuice\"\n",
    "        self.foundational_model = model\n",
    "        self.tokenizer = tokenizer\n",
    "    \n",
    "    def create_model_directories(self, base_dir, output_dir_name):\n",
    "        \"\"\"\n",
    "        Creates the base and output directories for storing models if they do not exist.\n",
    "        \n",
    "        Parameters:\n",
    "        base_dir (str): The base working directory.\n",
    "        output_dir_name (str): The name of the output directory.\n",
    "        \n",
    "        Returns:\n",
    "        str: The path to the output directory.\n",
    "        \"\"\"\n",
    "        # Create the name of the output directory\n",
    "        output_directory = os.path.join(base_dir, output_dir_name)\n",
    "        \n",
    "        # Create the base directory if it does not exist\n",
    "        if not os.path.exists(base_dir):\n",
    "            os.mkdir(base_dir)\n",
    "        \n",
    "        # Create the output directory if it does not exist\n",
    "        if not os.path.exists(output_directory):\n",
    "            os.mkdir(output_directory)\n",
    "        \n",
    "        return output_directory\n",
    "    \n",
    "    def create_training_arguments(self, path, learning_rate=0.0035, epochs=6):\n",
    "        training_args = TrainingArguments(\n",
    "            output_dir=path, # Where the model predictions and checkpoints will be written\n",
    "            #use_cpu=True, # This is necessary for CPU clusters.\n",
    "            #auto_find_batch_size=True, # Find a suitable batch size that will fit into memory automatically\n",
    "            per_device_train_batch_size=8,\n",
    "            learning_rate=learning_rate, # Higher learning rate than full Fine-Tuning\n",
    "            num_train_epochs=epochs,\n",
    "            logging_strategy=\"epoch\"\n",
    "        )\n",
    "        return training_args\n",
    "\n",
    "    def create_trainer(self, model, training_args, train_dataset):\n",
    "        trainer = Trainer(\n",
    "            model=model, # We pass in the PEFT version of the foundation model, bloomz-560M\n",
    "            args=training_args, # The args for the training.\n",
    "            train_dataset=train_dataset, # The dataset used to train the model.\n",
    "            callbacks=[PrintLossCallback()],\n",
    "            data_collator=DataCollatorForLanguageModeling(self.tokenizer, mlm=False) # mlm=False indicates not to use masked language modeling\n",
    "        )\n",
    "        return trainer\n",
    "    \n",
    "    def train_model(self, tokenizer, tokenized_datasets, num_virtual_tokens=4, num_epochs=2, learning_rate=0.003):\n",
    "        # Define prompt tuning configuration\n",
    "        peft_config = PromptTuningConfig(\n",
    "            task_type=TaskType.CAUSAL_LM, # This type indicates the model will generate text.\n",
    "            prompt_tuning_init=PromptTuningInit.RANDOM,  # The added virtual tokens are initialized with random numbers\n",
    "            num_virtual_tokens=num_virtual_tokens, # Number of virtual tokens to be added and trained.\n",
    "            tokenizer_name_or_path=self.model_name # The pre-trained model.\n",
    "        )\n",
    "        \n",
    "        peft_model = get_peft_model(self.foundational_model, peft_config)\n",
    "        print(peft_model.print_trainable_parameters())\n",
    "        \n",
    "        training_args = self.create_training_arguments(self.output_directory, learning_rate, num_epochs)\n",
    "        \n",
    "        trainer_prompt = self.create_trainer(peft_model, training_args, tokenized_datasets)\n",
    "        trainer_prompt.train()\n",
    "        \n",
    "        # Save the trained model\n",
    "        trainer_prompt.model.save_pretrained(self.output_directory)\n",
    "\n",
    "        return trainer_prompt\n",
    "    \n",
    "    #this function returns the outputs from the model received, and inputs.\n",
    "    def get_outputs(self,model,inputs,do_sample=True,num_beams=None,num_return_sequences = 3):\n",
    "        \"\"\"\n",
    "        Generates multiple sequences of text using the provided model and inputs.\n",
    "\n",
    "        Args:\n",
    "            model: The model used for generation.\n",
    "            inputs (dict): Input tensors including 'input_ids' and 'attention_mask'.\n",
    "            do_sample (bool, optional): Whether to use sampling during generation (default: True).\n",
    "            num_beams (int, optional): Number of beams for beam search. Overrides `do_sample`.\n",
    "            num_return_sequences (int, optional): Number of sequences to generate per input (default: 3).\n",
    "\n",
    "        Returns:\n",
    "            torch.Tensor: Tensor containing generated sequences.\n",
    "        \"\"\"\n",
    "\n",
    "        outputs = model.generate(\n",
    "            input_ids=inputs[\"input_ids\"],\n",
    "            attention_mask=inputs[\"attention_mask\"],\n",
    "            max_length=30,\n",
    "            early_stopping=False, #if num_beams is None else True, #The model can stop before reach the max_length\n",
    "            temperature= 1,\n",
    "            num_beams=1 if num_beams is None else num_beams,\n",
    "            do_sample=num_beams is None and do_sample,\n",
    "            num_return_sequences=num_return_sequences,\n",
    "        )\n",
    "        return outputs\n",
    "    \n",
    "    def inference (self,input_prompt,num_return_sequences = 3, num_beams = 5 ):\n",
    "        \"\"\"\n",
    "        Generate text sequences based on an input prompt using a pretrained model saved in the directory.\n",
    "\n",
    "        Args:\n",
    "            input_prompt (str): The input prompt text to generate sequences from.\n",
    "\n",
    "        Returns:\n",
    "            list: List of generated text sequences as decoded by the tokenizer, without special tokens.\n",
    "        \"\"\"\n",
    "\n",
    "        loaded_model_prompt = PeftModel.from_pretrained(self.foundational_model,\n",
    "                                         self.output_directory,\n",
    "                                         device_map='auto',\n",
    "                                         is_trainable=False)\n",
    "        \n",
    "        input_prompt_tok = self.tokenizer(input_prompt, return_tensors=\"pt\")\n",
    "        loaded_model_prompt_outputs = self.get_outputs(loaded_model_prompt, input_prompt_tok,num_beams = num_beams,num_return_sequences = num_return_sequences)\n",
    "        result = self.tokenizer.batch_decode(loaded_model_prompt_outputs, skip_special_tokens=True)\n",
    "\n",
    "        return result\n",
    "\n",
    "##############################\n",
    "\n",
    "# Define your foundational model, tokenizer, and tokenized datasets\n",
    "foundational_model = text_gen.model\n",
    "model_name = \"uw-hai/polyjuice\"\n",
    "tokenizer = text_gen.tokenizer\n",
    "\n",
    "# Initialize the ModelTrainer class\n",
    "trainer = ModelTrainer(model=foundational_model, tokenizer=tokenizer)\n",
    "\n",
    "# Train the model\n",
    "trainer_module = trainer.train_model(tokenizer, tokenized_datasets,num_virtual_tokens=10, num_epochs=3) #13"
   ]
  },
  {
   "cell_type": "code",
   "execution_count": 12,
   "metadata": {},
   "outputs": [
    {
     "data": {
      "text/html": [
       "<div>\n",
       "<style scoped>\n",
       "    .dataframe tbody tr th:only-of-type {\n",
       "        vertical-align: middle;\n",
       "    }\n",
       "\n",
       "    .dataframe tbody tr th {\n",
       "        vertical-align: top;\n",
       "    }\n",
       "\n",
       "    .dataframe thead th {\n",
       "        text-align: right;\n",
       "    }\n",
       "</style>\n",
       "<table border=\"1\" class=\"dataframe\">\n",
       "  <thead>\n",
       "    <tr style=\"text-align: right;\">\n",
       "      <th></th>\n",
       "      <th>loss</th>\n",
       "      <th>learning_rate</th>\n",
       "      <th>epoch</th>\n",
       "      <th>step</th>\n",
       "      <th>train_runtime</th>\n",
       "      <th>train_samples_per_second</th>\n",
       "      <th>train_steps_per_second</th>\n",
       "      <th>total_flos</th>\n",
       "      <th>train_loss</th>\n",
       "    </tr>\n",
       "  </thead>\n",
       "  <tbody>\n",
       "    <tr>\n",
       "      <th>0</th>\n",
       "      <td>5.5717</td>\n",
       "      <td>0.002769</td>\n",
       "      <td>1.0</td>\n",
       "      <td>8</td>\n",
       "      <td>NaN</td>\n",
       "      <td>NaN</td>\n",
       "      <td>NaN</td>\n",
       "      <td>NaN</td>\n",
       "      <td>NaN</td>\n",
       "    </tr>\n",
       "    <tr>\n",
       "      <th>1</th>\n",
       "      <td>5.5718</td>\n",
       "      <td>0.002538</td>\n",
       "      <td>2.0</td>\n",
       "      <td>16</td>\n",
       "      <td>NaN</td>\n",
       "      <td>NaN</td>\n",
       "      <td>NaN</td>\n",
       "      <td>NaN</td>\n",
       "      <td>NaN</td>\n",
       "    </tr>\n",
       "    <tr>\n",
       "      <th>2</th>\n",
       "      <td>5.5023</td>\n",
       "      <td>0.002308</td>\n",
       "      <td>3.0</td>\n",
       "      <td>24</td>\n",
       "      <td>NaN</td>\n",
       "      <td>NaN</td>\n",
       "      <td>NaN</td>\n",
       "      <td>NaN</td>\n",
       "      <td>NaN</td>\n",
       "    </tr>\n",
       "    <tr>\n",
       "      <th>3</th>\n",
       "      <td>5.4870</td>\n",
       "      <td>0.002077</td>\n",
       "      <td>4.0</td>\n",
       "      <td>32</td>\n",
       "      <td>NaN</td>\n",
       "      <td>NaN</td>\n",
       "      <td>NaN</td>\n",
       "      <td>NaN</td>\n",
       "      <td>NaN</td>\n",
       "    </tr>\n",
       "    <tr>\n",
       "      <th>4</th>\n",
       "      <td>5.4106</td>\n",
       "      <td>0.001846</td>\n",
       "      <td>5.0</td>\n",
       "      <td>40</td>\n",
       "      <td>NaN</td>\n",
       "      <td>NaN</td>\n",
       "      <td>NaN</td>\n",
       "      <td>NaN</td>\n",
       "      <td>NaN</td>\n",
       "    </tr>\n",
       "  </tbody>\n",
       "</table>\n",
       "</div>"
      ],
      "text/plain": [
       "     loss  learning_rate  epoch  step  train_runtime  \\\n",
       "0  5.5717       0.002769    1.0     8            NaN   \n",
       "1  5.5718       0.002538    2.0    16            NaN   \n",
       "2  5.5023       0.002308    3.0    24            NaN   \n",
       "3  5.4870       0.002077    4.0    32            NaN   \n",
       "4  5.4106       0.001846    5.0    40            NaN   \n",
       "\n",
       "   train_samples_per_second  train_steps_per_second  total_flos  train_loss  \n",
       "0                       NaN                     NaN         NaN         NaN  \n",
       "1                       NaN                     NaN         NaN         NaN  \n",
       "2                       NaN                     NaN         NaN         NaN  \n",
       "3                       NaN                     NaN         NaN         NaN  \n",
       "4                       NaN                     NaN         NaN         NaN  "
      ]
     },
     "execution_count": 12,
     "metadata": {},
     "output_type": "execute_result"
    }
   ],
   "source": [
    "import pandas as pd\n",
    "\n",
    "# Create a dataframe with the logging information\n",
    "df_train_log = pd.DataFrame(trainer_module.state.log_history)\n",
    "df_train_log.head()"
   ]
  },
  {
   "cell_type": "code",
   "execution_count": 13,
   "metadata": {},
   "outputs": [
    {
     "data": {
      "image/png": "[encoded data removed]",
      "text/plain": [
       "<Figure size 1000x500 with 1 Axes>"
      ]
     },
     "metadata": {},
     "output_type": "display_data"
    }
   ],
   "source": [
    "import matplotlib.pyplot as plt\n",
    "import pandas as pd\n",
    "\n",
    "def plot_loss_per_epoch(df):\n",
    "    \"\"\"\n",
    "    Plot the training loss per epoch from a DataFrame.\n",
    "    \n",
    "    Parameters:\n",
    "    df (pd.DataFrame): DataFrame containing 'epoch' and 'loss' columns.\n",
    "    \"\"\"\n",
    "    plt.figure(figsize=(10, 5))\n",
    "    plt.plot(df['epoch'], df['loss'], marker='o', linestyle='-', color='r', label='Training Loss')\n",
    "    plt.xlabel('Epoch')\n",
    "    plt.ylabel('Training Loss')\n",
    "    plt.title('Training Loss per Epoch')\n",
    "    plt.grid(True)\n",
    "    plt.legend()\n",
    "    plt.xticks(df['epoch'])  # Set x-axis ticks to be exactly the epoch values\n",
    "    plt.tight_layout()\n",
    "    plt.show()\n",
    "\n",
    "plot_loss_per_epoch(df_train_log)"
   ]
  },
  {
   "cell_type": "markdown",
   "metadata": {},
   "source": [
    "### INFERENCE"
   ]
  },
  {
   "cell_type": "code",
   "execution_count": 14,
   "metadata": {},
   "outputs": [
    {
     "name": "stderr",
     "output_type": "stream",
     "text": [
      "Setting `pad_token_id` to `eos_token_id`:50256 for open-end generation.\n",
      "c:\\Users\\daria\\anaconda3\\envs\\negation\\lib\\site-packages\\peft\\peft_model.py:1180: UserWarning: Position ids are not supported for parameter efficient tuning. Ignoring position ids.\n",
      "  warnings.warn(\"Position ids are not supported for parameter efficient tuning. Ignoring position ids.\")\n"
     ]
    },
    {
     "name": "stdout",
     "output_type": "stream",
     "text": [
      "['Her decision is rational. <|perturb|> [negation] Her decision is [BLANK]. [SEP] not [ANS', 'Her decision is rational. <|perturb|> [negation] Her decision is [BLANK]. [SEP] not enough to', 'Her decision is rational. <|perturb|> [negation] Her decision is [BLANK]. [SEP] not to go']\n"
     ]
    }
   ],
   "source": [
    "#input_prompt = \"too much of it feels unfocused and underdeveloped . [negation] too much of it feels [BLANK] and underdeveloped\"\n",
    "input_prompt = \"Her decision is rational. <|perturb|> [negation] Her decision is [BLANK]\"\n",
    "\n",
    "# To perturb with more controls,\n",
    "#random_blanks = [\"His behavior is always [BLANK]\", \" His behavior is [BLANK]\"]\n",
    "\n",
    "#input_prompt = \"His behavior is always responsible. [negation] His behavior is [BLANK]\"\n",
    "\n",
    "#input_prompt = 'makes for a pretty pleasant viewing experience. <|perturb|> [negation] makes for a pretty [BLANK] viewing experience'\n",
    "sequence = trainer.inference (input_prompt)\n",
    "print(sequence)"
   ]
  },
  {
   "cell_type": "code",
   "execution_count": 18,
   "metadata": {},
   "outputs": [
    {
     "name": "stderr",
     "output_type": "stream",
     "text": [
      "c:\\Users\\daria\\anaconda3\\envs\\negation\\lib\\site-packages\\huggingface_hub\\file_download.py:1132: FutureWarning: `resume_download` is deprecated and will be removed in version 1.0.0. Downloads always resume when possible. If you want to force a new download, use `force_download=True`.\n",
      "  warnings.warn(\n",
      "Setting `pad_token_id` to `eos_token_id`:50256 for open-end generation.\n"
     ]
    },
    {
     "name": "stdout",
     "output_type": "stream",
     "text": [
      "['His behavior is always responsible. [negation] His behavior is [BLANK] responsible. [SEP] not [ANSWER] ', 'His behavior is always responsible. [negation] His behavior is [BLANK] responsible. [SEP] never [ANSWER] ', 'His behavior is always responsible. [negation] His behavior is [BLANK] responsible. [SEP] not always [ANSWER] ']\n"
     ]
    }
   ],
   "source": [
    "\n",
    "# This section is making inference with the original model\n",
    "\n",
    "def get_outputsx(model, inputs,do_sample=True,num_beams=None):\n",
    "\n",
    "    num_return_sequences = 3\n",
    "\n",
    "    outputs = model.generate(\n",
    "        input_ids=inputs[\"input_ids\"],\n",
    "        attention_mask=inputs[\"attention_mask\"],\n",
    "        max_length=1000,\n",
    "        #repetition_penalty=1.5, #Avoid repetition.\n",
    "        early_stopping=False, #if num_beams is None else True, #The model can stop before reach the max_length\n",
    "        temperature= 1,\n",
    "        num_beams=1 if num_beams is None else num_beams,\n",
    "        do_sample=num_beams is None and do_sample,\n",
    "        num_return_sequences=num_return_sequences,\n",
    "        #eos_token_id=tokenizer.eos_token_id\n",
    "    )\n",
    "    return outputs\n",
    "\n",
    "model_name = \"uw-hai/polyjuice\"\n",
    "foundational_model=AutoModelForCausalLM.from_pretrained(model_name)\n",
    "tokenizer=AutoTokenizer.from_pretrained(model_name)\n",
    "\n",
    "#text = \"The project is sustainable.\"\n",
    "#random_blanks = {'The project is [BLANK]', '[BLANK] project is sustainable'}\n",
    "\n",
    "#input_prompt = tokenizer(\"The man drank from the tap. <|perturb|> [negation] The man [BLANK] from the tap.\", return_tensors=\"pt\")\n",
    "input_prompt = tokenizer(\"His behavior is always responsible. [negation] His behavior is [BLANK]\", return_tensors=\"pt\")\n",
    "#input_prompt = tokenizer(\"The project is sustainable. <|perturb|> [negation] The project is [BLANK].\", return_tensors=\"pt\")\n",
    "#input_prompt = tokenizer(\"Her decision is rational. <|perturb|> [negation] Her decision is [BLANK]\", return_tensors=\"pt\")\n",
    "foundational_outputs_prompt = get_outputsx(foundational_model, input_prompt, num_beams = 5)\n",
    "\n",
    "print(tokenizer.batch_decode(foundational_outputs_prompt, skip_special_tokens=True))"
   ]
  },
  {
   "cell_type": "code",
   "execution_count": 17,
   "metadata": {},
   "outputs": [
    {
     "name": "stderr",
     "output_type": "stream",
     "text": [
      "c:\\Users\\daria\\anaconda3\\envs\\negation\\lib\\site-packages\\huggingface_hub\\file_download.py:1132: FutureWarning: `resume_download` is deprecated and will be removed in version 1.0.0. Downloads always resume when possible. If you want to force a new download, use `force_download=True`.\n",
      "  warnings.warn(\n",
      "Setting `pad_token_id` to `eos_token_id`:50256 for open-end generation.\n"
     ]
    },
    {
     "name": "stdout",
     "output_type": "stream",
     "text": [
      "['Her decision is rational. <|perturb|> [negation] Her decision is [BLANK]', 'Her decision is rational. <|perturb|> [negation] Her decision is [BLANK]']\n"
     ]
    },
    {
     "name": "stderr",
     "output_type": "stream",
     "text": [
      "Setting `pad_token_id` to `eos_token_id`:50256 for open-end generation.\n"
     ]
    },
    {
     "name": "stdout",
     "output_type": "stream",
     "text": [
      "HERE\n",
      "[[{'generated_text': 'Her decision is rational. <|perturb|> [negation] Her decision is [BLANK] rational. [SEP] not [ANSWER] '}, {'generated_text': 'Her decision is rational. <|perturb|> [negation] Her decision is [BLANK]. [SEP] not enough [ANSWER] '}, {'generated_text': 'Her decision is rational. <|perturb|> [negation] Her decision is [BLANK]. [SEP] not enough however [ANSWER] '}], [{'generated_text': 'Her decision is rational. <|perturb|> [negation] Her decision is [BLANK] rational. [SEP] not [ANSWER] '}, {'generated_text': 'Her decision is rational. <|perturb|> [negation] Her decision is [BLANK]. [SEP] not enough [ANSWER] '}, {'generated_text': 'Her decision is rational. <|perturb|> [negation] Her decision is [BLANK]. [SEP] not enough however [ANSWER] '}]]\n",
      "[[('negation', 'Her decision is not enough.'), ('negation', 'Her decision is not rational.'), ('negation', 'Her decision is not enough however.')], [('negation', 'Her decision is not enough.'), ('negation', 'Her decision is not rational.'), ('negation', 'Her decision is not enough however.')]]\n"
     ]
    }
   ],
   "source": [
    "from incontext import PerturbationGenerator\n",
    "\n",
    "# Example usage\n",
    "text = \"Her decision is rational.\"\n",
    "random_blanks = ['Her decision is [BLANK]']*2#, '[BLANK] project is sustainable'}\n",
    "\n",
    "generator = PerturbationGenerator()\n",
    "\n",
    "prompts = generator.get_prompts(text, random_blanks)\n",
    "print(prompts)\n",
    "\n",
    "generated_sequences = generator.generate_on_prompts(prompts, temperature=1, num_beams=5, do_sample=True, batch_size=128, num_return_sequences=3)\n",
    "\n",
    "print(generated_sequences)\n",
    "\n",
    "#listado = generator.validate_and_sample_perturbations(generated_sequences, text, perplex_thred=10, num_perturbations=4)\n",
    "#print(listado)"
   ]
  },
  {
   "cell_type": "code",
   "execution_count": null,
   "metadata": {},
   "outputs": [],
   "source": [
    "from polyjuice import Polyjuice\n",
    "pj = Polyjuice(model_path=\"uw-hai/polyjuice\", is_cuda=True)\n",
    "\n",
    "# Example usage\n",
    "text = \"Her decision can me more rational.\"\n",
    "random_blanks = ['Her decision is can be more [BLANK]','Her decision is can be [BLANK]']#, '[BLANK] project is sustainable'}\n",
    "\n",
    "#text = \"It is great for kids.\"\n",
    "#random_blanks =  [\"It is great for [BLANK]\"]*2\n",
    "\n",
    "#text = \"It is great for kids.\"\n",
    "#text = \"His behavior is always responsible.\"\n",
    "\n",
    "# To perturb with more controls,\n",
    "#random_blanks = [\"His behavior is always [BLANK]\", \" His behavior is [BLANK]\"]\n",
    "\n",
    "#text = \"The project is sustainable.\"\n",
    "#random_blanks = {'The project is [BLANK]', '[BLANK] project is sustainable'}\n",
    "\n",
    "perturbations = pj.perturb(\n",
    "    orig_sent=text,\n",
    "    blanked_sent= random_blanks,\n",
    "    ctrl_code=\"negation\",\n",
    "    # Customzie perplexity score. \n",
    "    perplex_thred=30,\n",
    "    # number of perturbations to return\n",
    "    num_perturbations=3,\n",
    "    # the function also takes in additional arguments for huggingface generators.\n",
    "    num_beams=5\n",
    ")\n",
    "perturbations"
   ]
  },
  {
   "cell_type": "markdown",
   "metadata": {},
   "source": [
    "## Dataset with Affixal"
   ]
  },
  {
   "cell_type": "code",
   "execution_count": 182,
   "metadata": {},
   "outputs": [
    {
     "data": {
      "text/html": [
       "<div>\n",
       "<style scoped>\n",
       "    .dataframe tbody tr th:only-of-type {\n",
       "        vertical-align: middle;\n",
       "    }\n",
       "\n",
       "    .dataframe tbody tr th {\n",
       "        vertical-align: top;\n",
       "    }\n",
       "\n",
       "    .dataframe thead th {\n",
       "        text-align: right;\n",
       "    }\n",
       "</style>\n",
       "<table border=\"1\" class=\"dataframe\">\n",
       "  <thead>\n",
       "    <tr style=\"text-align: right;\">\n",
       "      <th></th>\n",
       "      <th>index</th>\n",
       "      <th>dev_index</th>\n",
       "      <th>text</th>\n",
       "      <th>cues</th>\n",
       "      <th>judgment</th>\n",
       "      <th>is_important</th>\n",
       "      <th>negation_type</th>\n",
       "      <th>text_substituted</th>\n",
       "    </tr>\n",
       "  </thead>\n",
       "  <tbody>\n",
       "    <tr>\n",
       "      <th>0</th>\n",
       "      <td>6</td>\n",
       "      <td>151</td>\n",
       "      <td>a big , gorgeous , sprawling swashbuckler that...</td>\n",
       "      <td>uncomplicated [14]</td>\n",
       "      <td>1</td>\n",
       "      <td>No</td>\n",
       "      <td>AFFIX</td>\n",
       "      <td>a big , gorgeous , sprawling swashbuckler that...</td>\n",
       "    </tr>\n",
       "    <tr>\n",
       "      <th>1</th>\n",
       "      <td>12</td>\n",
       "      <td>319</td>\n",
       "      <td>too much of it feels unfocused and underdevelo...</td>\n",
       "      <td>unfocused [5]</td>\n",
       "      <td>0</td>\n",
       "      <td>Yes</td>\n",
       "      <td>AFFIX</td>\n",
       "      <td>too much of it feels focused and underdeveloped .</td>\n",
       "    </tr>\n",
       "    <tr>\n",
       "      <th>2</th>\n",
       "      <td>17</td>\n",
       "      <td>274</td>\n",
       "      <td>it 's hard to like a film about a guy who is u...</td>\n",
       "      <td>unlikeable [13]</td>\n",
       "      <td>0</td>\n",
       "      <td>Yes</td>\n",
       "      <td>AFFIX</td>\n",
       "      <td>it 's hard to like a film about a guy who is u...</td>\n",
       "    </tr>\n",
       "    <tr>\n",
       "      <th>3</th>\n",
       "      <td>24</td>\n",
       "      <td>858</td>\n",
       "      <td>the film 's welcome breeziness and some unbeli...</td>\n",
       "      <td>unbelievably [7]</td>\n",
       "      <td>1</td>\n",
       "      <td>No</td>\n",
       "      <td>AFFIX</td>\n",
       "      <td>the film 's welcome breeziness and some believ...</td>\n",
       "    </tr>\n",
       "    <tr>\n",
       "      <th>4</th>\n",
       "      <td>26</td>\n",
       "      <td>469</td>\n",
       "      <td>so unremittingly awful that labeling it a dog ...</td>\n",
       "      <td>unremittingly [1]</td>\n",
       "      <td>0</td>\n",
       "      <td>No</td>\n",
       "      <td>AFFIX</td>\n",
       "      <td>so remittingly awful that labeling it a dog pr...</td>\n",
       "    </tr>\n",
       "  </tbody>\n",
       "</table>\n",
       "</div>"
      ],
      "text/plain": [
       "   index  dev_index                                               text  \\\n",
       "0      6        151  a big , gorgeous , sprawling swashbuckler that...   \n",
       "1     12        319  too much of it feels unfocused and underdevelo...   \n",
       "2     17        274  it 's hard to like a film about a guy who is u...   \n",
       "3     24        858  the film 's welcome breeziness and some unbeli...   \n",
       "4     26        469  so unremittingly awful that labeling it a dog ...   \n",
       "\n",
       "                 cues  judgment is_important negation_type  \\\n",
       "0  uncomplicated [14]         1           No         AFFIX   \n",
       "1       unfocused [5]         0          Yes         AFFIX   \n",
       "2     unlikeable [13]         0          Yes         AFFIX   \n",
       "3    unbelievably [7]         1           No         AFFIX   \n",
       "4   unremittingly [1]         0           No         AFFIX   \n",
       "\n",
       "                                    text_substituted  \n",
       "0  a big , gorgeous , sprawling swashbuckler that...  \n",
       "1  too much of it feels focused and underdeveloped .  \n",
       "2  it 's hard to like a film about a guy who is u...  \n",
       "3  the film 's welcome breeziness and some believ...  \n",
       "4  so remittingly awful that labeling it a dog pr...  "
      ]
     },
     "execution_count": 182,
     "metadata": {},
     "output_type": "execute_result"
    }
   ],
   "source": [
    "import pandas as pd\n",
    "\n",
    "# Specify the path to the pickle file\n",
    "affixal_path = '../data/affixal/filtered_df.pkl'\n",
    "\n",
    "# Load the DataFrame from the pickle file\n",
    "filtered_df = pd.read_pickle(affixal_path)\n",
    "\n",
    "# Display the first few rows of the DataFrame\n",
    "filtered_df.head()"
   ]
  },
  {
   "cell_type": "code",
   "execution_count": 187,
   "metadata": {},
   "outputs": [
    {
     "name": "stdout",
     "output_type": "stream",
     "text": [
      "a big , gorgeous , sprawling swashbuckler that delivers its diversions in grand , uncomplicated fashion .\n",
      "a big , gorgeous , sprawling swashbuckler that delivers its diversions in grand , complicated fashion .\n"
     ]
    }
   ],
   "source": [
    "print(filtered_df.loc[0,'text'])\n",
    "print(filtered_df.loc[0,'text_substituted'])"
   ]
  }
 ],
 "metadata": {
  "kernelspec": {
   "display_name": "negation",
   "language": "python",
   "name": "python3"
  },
  "language_info": {
   "codemirror_mode": {
    "name": "ipython",
    "version": 3
   },
   "file_extension": ".py",
   "mimetype": "text/x-python",
   "name": "python",
   "nbconvert_exporter": "python",
   "pygments_lexer": "ipython3",
   "version": "3.9.19"
  }
 },
 "nbformat": 4,
 "nbformat_minor": 2
}
